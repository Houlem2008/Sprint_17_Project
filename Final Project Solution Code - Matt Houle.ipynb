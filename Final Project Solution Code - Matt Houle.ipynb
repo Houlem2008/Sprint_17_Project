{
 "cells": [
  {
   "cell_type": "markdown",
   "id": "3c026369",
   "metadata": {},
   "source": [
    "**Review**\n",
    "\n",
    "Hi, my name is Dmitry and I will be reviewing your code.\n",
    "  \n",
    "You can find my comments in colored markdown cells:\n",
    "  \n",
    "<div class=\"alert alert-success\">\n",
    "  If everything is done successfully.\n",
    "</div>\n",
    "  \n",
    "<div class=\"alert alert-warning\">\n",
    "  If I have some (optional) suggestions, or questions to think about, or general comments.\n",
    "</div>\n",
    "  \n",
    "<div class=\"alert alert-danger\">\n",
    "  If a section requires some corrections. Work can't be accepted with red comments.\n",
    "</div>\n",
    "  \n",
    "Please don't remove my comments, as it will make further review iterations much harder for me.\n",
    "  \n",
    "Feel free to reply to my comments or ask questions using the following template:\n",
    "  \n",
    "<div class=\"alert alert-info\">\n",
    "  For your comments and questions.\n",
    "</div>\n",
    "  \n",
    "First of all, thank you for turning in the project! You did an excellent job overall! Nice work on data preprocessing and feature engineering as well as modeling. There is only one small problem: the way you calculated ROC-AUC may lead to it being slightly underestimated. But you beat the 6 SP threshold anyway. Congratulations!"
   ]
  },
  {
   "cell_type": "markdown",
   "id": "9223ff4d",
   "metadata": {},
   "source": [
    "# Interconnect Customer Analysis"
   ]
  },
  {
   "cell_type": "markdown",
   "id": "36050e49",
   "metadata": {},
   "source": [
    "In order to assist Intercom, a telecommunications and internet provider, we will be analyzing customer data in order to create aa model with machine learning to help aid in the evaluation and identification of customers who will likely churn, or end their contracts.\n",
    "\n",
    "We will carry out an exploratory analysis of the data with visual representations of the data to try and identify patterns or trends. Then the data will be optimized for and used to train machine learning models, of which the best will be selected, to identify the customers that will likely churn.\n",
    "\n",
    "Our assessment metric for this task is ROC-AUC, or the Area Under Curve (AUC) of the Recieving Operator Characteristic (ROC). The closer to 1 the ROC-AUC score, the better the model's ability to predict accurately."
   ]
  },
  {
   "cell_type": "markdown",
   "id": "f8489a98",
   "metadata": {},
   "source": [
    "## Load Data and Libraries"
   ]
  },
  {
   "cell_type": "code",
   "execution_count": 1,
   "id": "f20be8d4",
   "metadata": {},
   "outputs": [],
   "source": [
    "### Import libraries and data\n",
    "\n",
    "import pandas as pd\n",
    "import numpy as np\n",
    "import seaborn as sns\n",
    "import matplotlib.pyplot as plt\n",
    "\n",
    "### Loading for TripleTen on-platform use\n",
    "\n",
    "# df_contract = pd.read_csv('/datasets/final_provider/contract.csv')\n",
    "# df_personal = pd.read_csv('/datasets/final_provider/personal.csv')\n",
    "# df_internet = pd.read_csv('/datasets/final_provider/internet.csv')\n",
    "# df_phone = pd.read_csv('/datasets/final_provider/phone.csv')\n",
    "\n",
    "### Loading for personal directory\n",
    "\n",
    "df_contract = pd.read_csv('contract.csv')\n",
    "df_personal = pd.read_csv('personal.csv')\n",
    "df_internet = pd.read_csv('internet.csv')\n",
    "df_phone = pd.read_csv('phone.csv')"
   ]
  },
  {
   "cell_type": "markdown",
   "id": "d0e751b2",
   "metadata": {},
   "source": [
    "## Data Overview and Preprocessing"
   ]
  },
  {
   "cell_type": "markdown",
   "id": "2e0ed4ad",
   "metadata": {},
   "source": [
    "### `df_contract`"
   ]
  },
  {
   "cell_type": "markdown",
   "id": "cc89a2cd",
   "metadata": {},
   "source": [
    "#### Overview"
   ]
  },
  {
   "cell_type": "code",
   "execution_count": 2,
   "id": "be4cca61",
   "metadata": {},
   "outputs": [
    {
     "name": "stdout",
     "output_type": "stream",
     "text": [
      "<class 'pandas.core.frame.DataFrame'>\n",
      "RangeIndex: 7043 entries, 0 to 7042\n",
      "Data columns (total 8 columns):\n",
      " #   Column            Non-Null Count  Dtype  \n",
      "---  ------            --------------  -----  \n",
      " 0   customerID        7043 non-null   object \n",
      " 1   BeginDate         7043 non-null   object \n",
      " 2   EndDate           7043 non-null   object \n",
      " 3   Type              7043 non-null   object \n",
      " 4   PaperlessBilling  7043 non-null   object \n",
      " 5   PaymentMethod     7043 non-null   object \n",
      " 6   MonthlyCharges    7043 non-null   float64\n",
      " 7   TotalCharges      7043 non-null   object \n",
      "dtypes: float64(1), object(7)\n",
      "memory usage: 440.3+ KB\n"
     ]
    }
   ],
   "source": [
    "df_contract.info()"
   ]
  },
  {
   "cell_type": "code",
   "execution_count": 3,
   "id": "a32e857d",
   "metadata": {},
   "outputs": [
    {
     "data": {
      "text/html": [
       "<div>\n",
       "<style scoped>\n",
       "    .dataframe tbody tr th:only-of-type {\n",
       "        vertical-align: middle;\n",
       "    }\n",
       "\n",
       "    .dataframe tbody tr th {\n",
       "        vertical-align: top;\n",
       "    }\n",
       "\n",
       "    .dataframe thead th {\n",
       "        text-align: right;\n",
       "    }\n",
       "</style>\n",
       "<table border=\"1\" class=\"dataframe\">\n",
       "  <thead>\n",
       "    <tr style=\"text-align: right;\">\n",
       "      <th></th>\n",
       "      <th>customerID</th>\n",
       "      <th>BeginDate</th>\n",
       "      <th>EndDate</th>\n",
       "      <th>Type</th>\n",
       "      <th>PaperlessBilling</th>\n",
       "      <th>PaymentMethod</th>\n",
       "      <th>MonthlyCharges</th>\n",
       "      <th>TotalCharges</th>\n",
       "    </tr>\n",
       "  </thead>\n",
       "  <tbody>\n",
       "    <tr>\n",
       "      <th>0</th>\n",
       "      <td>7590-VHVEG</td>\n",
       "      <td>2020-01-01</td>\n",
       "      <td>No</td>\n",
       "      <td>Month-to-month</td>\n",
       "      <td>Yes</td>\n",
       "      <td>Electronic check</td>\n",
       "      <td>29.85</td>\n",
       "      <td>29.85</td>\n",
       "    </tr>\n",
       "    <tr>\n",
       "      <th>1</th>\n",
       "      <td>5575-GNVDE</td>\n",
       "      <td>2017-04-01</td>\n",
       "      <td>No</td>\n",
       "      <td>One year</td>\n",
       "      <td>No</td>\n",
       "      <td>Mailed check</td>\n",
       "      <td>56.95</td>\n",
       "      <td>1889.5</td>\n",
       "    </tr>\n",
       "    <tr>\n",
       "      <th>2</th>\n",
       "      <td>3668-QPYBK</td>\n",
       "      <td>2019-10-01</td>\n",
       "      <td>2019-12-01 00:00:00</td>\n",
       "      <td>Month-to-month</td>\n",
       "      <td>Yes</td>\n",
       "      <td>Mailed check</td>\n",
       "      <td>53.85</td>\n",
       "      <td>108.15</td>\n",
       "    </tr>\n",
       "    <tr>\n",
       "      <th>3</th>\n",
       "      <td>7795-CFOCW</td>\n",
       "      <td>2016-05-01</td>\n",
       "      <td>No</td>\n",
       "      <td>One year</td>\n",
       "      <td>No</td>\n",
       "      <td>Bank transfer (automatic)</td>\n",
       "      <td>42.30</td>\n",
       "      <td>1840.75</td>\n",
       "    </tr>\n",
       "    <tr>\n",
       "      <th>4</th>\n",
       "      <td>9237-HQITU</td>\n",
       "      <td>2019-09-01</td>\n",
       "      <td>2019-11-01 00:00:00</td>\n",
       "      <td>Month-to-month</td>\n",
       "      <td>Yes</td>\n",
       "      <td>Electronic check</td>\n",
       "      <td>70.70</td>\n",
       "      <td>151.65</td>\n",
       "    </tr>\n",
       "  </tbody>\n",
       "</table>\n",
       "</div>"
      ],
      "text/plain": [
       "   customerID   BeginDate              EndDate            Type  \\\n",
       "0  7590-VHVEG  2020-01-01                   No  Month-to-month   \n",
       "1  5575-GNVDE  2017-04-01                   No        One year   \n",
       "2  3668-QPYBK  2019-10-01  2019-12-01 00:00:00  Month-to-month   \n",
       "3  7795-CFOCW  2016-05-01                   No        One year   \n",
       "4  9237-HQITU  2019-09-01  2019-11-01 00:00:00  Month-to-month   \n",
       "\n",
       "  PaperlessBilling              PaymentMethod  MonthlyCharges TotalCharges  \n",
       "0              Yes           Electronic check           29.85        29.85  \n",
       "1               No               Mailed check           56.95       1889.5  \n",
       "2              Yes               Mailed check           53.85       108.15  \n",
       "3               No  Bank transfer (automatic)           42.30      1840.75  \n",
       "4              Yes           Electronic check           70.70       151.65  "
      ]
     },
     "execution_count": 3,
     "metadata": {},
     "output_type": "execute_result"
    }
   ],
   "source": [
    "df_contract.head()"
   ]
  },
  {
   "cell_type": "markdown",
   "id": "3264652f",
   "metadata": {},
   "source": [
    "#### Preprocessing"
   ]
  },
  {
   "cell_type": "code",
   "execution_count": 4,
   "id": "736c4423",
   "metadata": {},
   "outputs": [],
   "source": [
    "### Convert column names to snake_script\n",
    "df_contract = df_contract.rename(columns={'customerID' : 'customer_id', 'BeginDate' : 'begin_date', 'EndDate' : 'end_date', 'Type' : 'contract_type', 'PaperlessBilling' : 'paperless_billing', 'PaymentMethod' : 'payment_method', 'MonthlyCharges' : 'monthly_charges', 'TotalCharges' : 'total_charges'})"
   ]
  },
  {
   "cell_type": "code",
   "execution_count": 5,
   "id": "700f91ab",
   "metadata": {},
   "outputs": [],
   "source": [
    "### Convert Month-to-month to Monthly\n",
    "df_contract['contract_type'] = df_contract['contract_type'].where(df_contract['contract_type'] != 'Month-to-month', 'Monthly')"
   ]
  },
  {
   "cell_type": "code",
   "execution_count": 6,
   "id": "188489ce",
   "metadata": {},
   "outputs": [],
   "source": [
    "### Convert begin_date to datetime\n",
    "df_contract['begin_date'] = pd.to_datetime(df_contract['begin_date'], format='%Y-%m-%d')"
   ]
  },
  {
   "cell_type": "code",
   "execution_count": 7,
   "id": "f6b747ff",
   "metadata": {},
   "outputs": [],
   "source": [
    "### Convert end_date to datetime\n",
    "df_contract['end_date'] = df_contract['end_date'].where(df_contract['end_date'] != 'No', None)\n",
    "df_contract['end_date'] = pd.to_datetime(df_contract['end_date'], format='%Y-%m-%d')"
   ]
  },
  {
   "cell_type": "code",
   "execution_count": 8,
   "id": "a9fef9ec",
   "metadata": {},
   "outputs": [],
   "source": [
    "### Create contract duration column\n",
    "duration = ((df_contract['end_date'] - df_contract['begin_date']) / np.timedelta64(1, 'M'))\n",
    "df_contract['contract_duration_months'] = duration.round()"
   ]
  },
  {
   "cell_type": "code",
   "execution_count": 9,
   "id": "85d3c403",
   "metadata": {},
   "outputs": [],
   "source": [
    "### Create churned column\n",
    "df_contract['churned'] = df_contract['contract_duration_months']\n",
    "df_contract['churned'] = df_contract['churned'].fillna(0)\n",
    "df_contract['churned'] = df_contract['churned'].where(df_contract['churned'] < 0.5, 1)\n",
    "df_contract['churned'] = df_contract['churned'].astype(int)"
   ]
  },
  {
   "cell_type": "code",
   "execution_count": 10,
   "id": "6f397707",
   "metadata": {},
   "outputs": [],
   "source": [
    "### paperless_billing to 1/0\n",
    "df_contract['paperless_billing'] = df_contract['paperless_billing'].where(df_contract['paperless_billing'] != 'Yes', 1)\n",
    "df_contract['paperless_billing'] = df_contract['paperless_billing'].where(df_contract['paperless_billing'] != 'No', 0)\n",
    "df_contract['paperless_billing'] = df_contract['paperless_billing'].astype(int)"
   ]
  },
  {
   "cell_type": "code",
   "execution_count": 11,
   "id": "16054e40",
   "metadata": {},
   "outputs": [],
   "source": [
    "### total_charges to float\n",
    "df_contract['total_charges'] = pd.to_numeric(df_contract['total_charges'], errors='coerce')"
   ]
  },
  {
   "cell_type": "code",
   "execution_count": 12,
   "id": "bbefd7f7",
   "metadata": {
    "scrolled": true
   },
   "outputs": [
    {
     "name": "stdout",
     "output_type": "stream",
     "text": [
      "<class 'pandas.core.frame.DataFrame'>\n",
      "RangeIndex: 7043 entries, 0 to 7042\n",
      "Data columns (total 10 columns):\n",
      " #   Column                    Non-Null Count  Dtype         \n",
      "---  ------                    --------------  -----         \n",
      " 0   customer_id               7043 non-null   object        \n",
      " 1   begin_date                7043 non-null   datetime64[ns]\n",
      " 2   end_date                  1869 non-null   datetime64[ns]\n",
      " 3   contract_type             7043 non-null   object        \n",
      " 4   paperless_billing         7043 non-null   int32         \n",
      " 5   payment_method            7043 non-null   object        \n",
      " 6   monthly_charges           7043 non-null   float64       \n",
      " 7   total_charges             7032 non-null   float64       \n",
      " 8   contract_duration_months  1869 non-null   float64       \n",
      " 9   churned                   7043 non-null   int32         \n",
      "dtypes: datetime64[ns](2), float64(3), int32(2), object(3)\n",
      "memory usage: 495.3+ KB\n"
     ]
    }
   ],
   "source": [
    "df_contract.info()"
   ]
  },
  {
   "cell_type": "code",
   "execution_count": 13,
   "id": "8fb2d41b",
   "metadata": {
    "scrolled": true
   },
   "outputs": [
    {
     "data": {
      "text/html": [
       "<div>\n",
       "<style scoped>\n",
       "    .dataframe tbody tr th:only-of-type {\n",
       "        vertical-align: middle;\n",
       "    }\n",
       "\n",
       "    .dataframe tbody tr th {\n",
       "        vertical-align: top;\n",
       "    }\n",
       "\n",
       "    .dataframe thead th {\n",
       "        text-align: right;\n",
       "    }\n",
       "</style>\n",
       "<table border=\"1\" class=\"dataframe\">\n",
       "  <thead>\n",
       "    <tr style=\"text-align: right;\">\n",
       "      <th></th>\n",
       "      <th>customer_id</th>\n",
       "      <th>begin_date</th>\n",
       "      <th>end_date</th>\n",
       "      <th>contract_type</th>\n",
       "      <th>paperless_billing</th>\n",
       "      <th>payment_method</th>\n",
       "      <th>monthly_charges</th>\n",
       "      <th>total_charges</th>\n",
       "      <th>contract_duration_months</th>\n",
       "      <th>churned</th>\n",
       "    </tr>\n",
       "  </thead>\n",
       "  <tbody>\n",
       "    <tr>\n",
       "      <th>0</th>\n",
       "      <td>7590-VHVEG</td>\n",
       "      <td>2020-01-01</td>\n",
       "      <td>NaT</td>\n",
       "      <td>Monthly</td>\n",
       "      <td>1</td>\n",
       "      <td>Electronic check</td>\n",
       "      <td>29.85</td>\n",
       "      <td>29.85</td>\n",
       "      <td>NaN</td>\n",
       "      <td>0</td>\n",
       "    </tr>\n",
       "    <tr>\n",
       "      <th>1</th>\n",
       "      <td>5575-GNVDE</td>\n",
       "      <td>2017-04-01</td>\n",
       "      <td>NaT</td>\n",
       "      <td>One year</td>\n",
       "      <td>0</td>\n",
       "      <td>Mailed check</td>\n",
       "      <td>56.95</td>\n",
       "      <td>1889.50</td>\n",
       "      <td>NaN</td>\n",
       "      <td>0</td>\n",
       "    </tr>\n",
       "    <tr>\n",
       "      <th>2</th>\n",
       "      <td>3668-QPYBK</td>\n",
       "      <td>2019-10-01</td>\n",
       "      <td>2019-12-01</td>\n",
       "      <td>Monthly</td>\n",
       "      <td>1</td>\n",
       "      <td>Mailed check</td>\n",
       "      <td>53.85</td>\n",
       "      <td>108.15</td>\n",
       "      <td>2.0</td>\n",
       "      <td>1</td>\n",
       "    </tr>\n",
       "    <tr>\n",
       "      <th>3</th>\n",
       "      <td>7795-CFOCW</td>\n",
       "      <td>2016-05-01</td>\n",
       "      <td>NaT</td>\n",
       "      <td>One year</td>\n",
       "      <td>0</td>\n",
       "      <td>Bank transfer (automatic)</td>\n",
       "      <td>42.30</td>\n",
       "      <td>1840.75</td>\n",
       "      <td>NaN</td>\n",
       "      <td>0</td>\n",
       "    </tr>\n",
       "    <tr>\n",
       "      <th>4</th>\n",
       "      <td>9237-HQITU</td>\n",
       "      <td>2019-09-01</td>\n",
       "      <td>2019-11-01</td>\n",
       "      <td>Monthly</td>\n",
       "      <td>1</td>\n",
       "      <td>Electronic check</td>\n",
       "      <td>70.70</td>\n",
       "      <td>151.65</td>\n",
       "      <td>2.0</td>\n",
       "      <td>1</td>\n",
       "    </tr>\n",
       "  </tbody>\n",
       "</table>\n",
       "</div>"
      ],
      "text/plain": [
       "  customer_id begin_date   end_date contract_type  paperless_billing  \\\n",
       "0  7590-VHVEG 2020-01-01        NaT       Monthly                  1   \n",
       "1  5575-GNVDE 2017-04-01        NaT      One year                  0   \n",
       "2  3668-QPYBK 2019-10-01 2019-12-01       Monthly                  1   \n",
       "3  7795-CFOCW 2016-05-01        NaT      One year                  0   \n",
       "4  9237-HQITU 2019-09-01 2019-11-01       Monthly                  1   \n",
       "\n",
       "              payment_method  monthly_charges  total_charges  \\\n",
       "0           Electronic check            29.85          29.85   \n",
       "1               Mailed check            56.95        1889.50   \n",
       "2               Mailed check            53.85         108.15   \n",
       "3  Bank transfer (automatic)            42.30        1840.75   \n",
       "4           Electronic check            70.70         151.65   \n",
       "\n",
       "   contract_duration_months  churned  \n",
       "0                       NaN        0  \n",
       "1                       NaN        0  \n",
       "2                       2.0        1  \n",
       "3                       NaN        0  \n",
       "4                       2.0        1  "
      ]
     },
     "execution_count": 13,
     "metadata": {},
     "output_type": "execute_result"
    }
   ],
   "source": [
    "df_contract.head()"
   ]
  },
  {
   "cell_type": "code",
   "execution_count": 14,
   "id": "daf53505",
   "metadata": {},
   "outputs": [
    {
     "data": {
      "text/plain": [
       "0"
      ]
     },
     "execution_count": 14,
     "metadata": {},
     "output_type": "execute_result"
    }
   ],
   "source": [
    "df_contract.duplicated().sum()"
   ]
  },
  {
   "cell_type": "markdown",
   "id": "efa7502a",
   "metadata": {},
   "source": [
    "The column names in `df_contacts` were changed to snake_script to be consistent with the other dataframes for when they are merged. `Contract` was changed to `contract_type` to be easier to translate on the larger table, along with \"Month-to-month\" changed to \"Monthly\" within the `payment_method column`. Binary entried of yea/no were changed to 1/0 to save time with future adjustments when preparing to train models. And dates in columns were switched to datetime format.\n",
    "\n",
    "Two columns were createded, `contract_duration_months` which shows the duration of churned contracts in months, and `churned` which shows a 1 if customers have ended their contract, or 0 if they are still current."
   ]
  },
  {
   "cell_type": "markdown",
   "id": "50f48dce",
   "metadata": {},
   "source": [
    "### `df_personal`"
   ]
  },
  {
   "cell_type": "markdown",
   "id": "769a0dce",
   "metadata": {},
   "source": [
    "#### Overview"
   ]
  },
  {
   "cell_type": "code",
   "execution_count": 15,
   "id": "9d671e13",
   "metadata": {},
   "outputs": [
    {
     "name": "stdout",
     "output_type": "stream",
     "text": [
      "<class 'pandas.core.frame.DataFrame'>\n",
      "RangeIndex: 7043 entries, 0 to 7042\n",
      "Data columns (total 5 columns):\n",
      " #   Column         Non-Null Count  Dtype \n",
      "---  ------         --------------  ----- \n",
      " 0   customerID     7043 non-null   object\n",
      " 1   gender         7043 non-null   object\n",
      " 2   SeniorCitizen  7043 non-null   int64 \n",
      " 3   Partner        7043 non-null   object\n",
      " 4   Dependents     7043 non-null   object\n",
      "dtypes: int64(1), object(4)\n",
      "memory usage: 275.2+ KB\n"
     ]
    }
   ],
   "source": [
    "df_personal.info()"
   ]
  },
  {
   "cell_type": "code",
   "execution_count": 16,
   "id": "45639873",
   "metadata": {},
   "outputs": [
    {
     "data": {
      "text/html": [
       "<div>\n",
       "<style scoped>\n",
       "    .dataframe tbody tr th:only-of-type {\n",
       "        vertical-align: middle;\n",
       "    }\n",
       "\n",
       "    .dataframe tbody tr th {\n",
       "        vertical-align: top;\n",
       "    }\n",
       "\n",
       "    .dataframe thead th {\n",
       "        text-align: right;\n",
       "    }\n",
       "</style>\n",
       "<table border=\"1\" class=\"dataframe\">\n",
       "  <thead>\n",
       "    <tr style=\"text-align: right;\">\n",
       "      <th></th>\n",
       "      <th>customerID</th>\n",
       "      <th>gender</th>\n",
       "      <th>SeniorCitizen</th>\n",
       "      <th>Partner</th>\n",
       "      <th>Dependents</th>\n",
       "    </tr>\n",
       "  </thead>\n",
       "  <tbody>\n",
       "    <tr>\n",
       "      <th>0</th>\n",
       "      <td>7590-VHVEG</td>\n",
       "      <td>Female</td>\n",
       "      <td>0</td>\n",
       "      <td>Yes</td>\n",
       "      <td>No</td>\n",
       "    </tr>\n",
       "    <tr>\n",
       "      <th>1</th>\n",
       "      <td>5575-GNVDE</td>\n",
       "      <td>Male</td>\n",
       "      <td>0</td>\n",
       "      <td>No</td>\n",
       "      <td>No</td>\n",
       "    </tr>\n",
       "    <tr>\n",
       "      <th>2</th>\n",
       "      <td>3668-QPYBK</td>\n",
       "      <td>Male</td>\n",
       "      <td>0</td>\n",
       "      <td>No</td>\n",
       "      <td>No</td>\n",
       "    </tr>\n",
       "    <tr>\n",
       "      <th>3</th>\n",
       "      <td>7795-CFOCW</td>\n",
       "      <td>Male</td>\n",
       "      <td>0</td>\n",
       "      <td>No</td>\n",
       "      <td>No</td>\n",
       "    </tr>\n",
       "    <tr>\n",
       "      <th>4</th>\n",
       "      <td>9237-HQITU</td>\n",
       "      <td>Female</td>\n",
       "      <td>0</td>\n",
       "      <td>No</td>\n",
       "      <td>No</td>\n",
       "    </tr>\n",
       "  </tbody>\n",
       "</table>\n",
       "</div>"
      ],
      "text/plain": [
       "   customerID  gender  SeniorCitizen Partner Dependents\n",
       "0  7590-VHVEG  Female              0     Yes         No\n",
       "1  5575-GNVDE    Male              0      No         No\n",
       "2  3668-QPYBK    Male              0      No         No\n",
       "3  7795-CFOCW    Male              0      No         No\n",
       "4  9237-HQITU  Female              0      No         No"
      ]
     },
     "execution_count": 16,
     "metadata": {},
     "output_type": "execute_result"
    }
   ],
   "source": [
    "df_personal.head()"
   ]
  },
  {
   "cell_type": "markdown",
   "id": "cc95e3b4",
   "metadata": {},
   "source": [
    "#### Preprocessing"
   ]
  },
  {
   "cell_type": "code",
   "execution_count": 17,
   "id": "4ca1bcca",
   "metadata": {},
   "outputs": [],
   "source": [
    "### Convert column names to snake_script\n",
    "df_personal = df_personal.rename(columns={'customerID' : 'customer_id','gender' : 'gender_male' , 'SeniorCitizen' : 'senior_citizen', 'Partner' : 'partner', 'Dependents' : 'dependents'})"
   ]
  },
  {
   "cell_type": "code",
   "execution_count": 18,
   "id": "dae37063",
   "metadata": {},
   "outputs": [],
   "source": [
    "### gender_male to 1/0\n",
    "df_personal['gender_male'] = df_personal['gender_male'].where(df_personal['gender_male'] != 'Male', 1)\n",
    "df_personal['gender_male'] = df_personal['gender_male'].where(df_personal['gender_male'] != 'Female', 0)\n",
    "df_personal['gender_male'] = df_personal['gender_male'].astype(int)"
   ]
  },
  {
   "cell_type": "code",
   "execution_count": 19,
   "id": "6813f385",
   "metadata": {},
   "outputs": [],
   "source": [
    "### partner to 1/0\n",
    "df_personal['partner'] = df_personal['partner'].where(df_personal['partner'] != 'Yes', 1)\n",
    "df_personal['partner'] = df_personal['partner'].where(df_personal['partner'] != 'No', 0)\n",
    "df_personal['partner'] = df_personal['partner'].astype(int)"
   ]
  },
  {
   "cell_type": "code",
   "execution_count": 20,
   "id": "0501cbd4",
   "metadata": {},
   "outputs": [],
   "source": [
    "### dependents to 1/0\n",
    "df_personal['dependents'] = df_personal['dependents'].where(df_personal['dependents'] != 'Yes', 1)\n",
    "df_personal['dependents'] = df_personal['dependents'].where(df_personal['dependents'] != 'No', 0)\n",
    "df_personal['dependents'] = df_personal['dependents'].astype(int)"
   ]
  },
  {
   "cell_type": "code",
   "execution_count": 21,
   "id": "ebf9721b",
   "metadata": {},
   "outputs": [
    {
     "name": "stdout",
     "output_type": "stream",
     "text": [
      "<class 'pandas.core.frame.DataFrame'>\n",
      "RangeIndex: 7043 entries, 0 to 7042\n",
      "Data columns (total 5 columns):\n",
      " #   Column          Non-Null Count  Dtype \n",
      "---  ------          --------------  ----- \n",
      " 0   customer_id     7043 non-null   object\n",
      " 1   gender_male     7043 non-null   int32 \n",
      " 2   senior_citizen  7043 non-null   int64 \n",
      " 3   partner         7043 non-null   int32 \n",
      " 4   dependents      7043 non-null   int32 \n",
      "dtypes: int32(3), int64(1), object(1)\n",
      "memory usage: 192.7+ KB\n"
     ]
    }
   ],
   "source": [
    "df_personal.info()"
   ]
  },
  {
   "cell_type": "code",
   "execution_count": 22,
   "id": "d508c2ed",
   "metadata": {},
   "outputs": [
    {
     "data": {
      "text/html": [
       "<div>\n",
       "<style scoped>\n",
       "    .dataframe tbody tr th:only-of-type {\n",
       "        vertical-align: middle;\n",
       "    }\n",
       "\n",
       "    .dataframe tbody tr th {\n",
       "        vertical-align: top;\n",
       "    }\n",
       "\n",
       "    .dataframe thead th {\n",
       "        text-align: right;\n",
       "    }\n",
       "</style>\n",
       "<table border=\"1\" class=\"dataframe\">\n",
       "  <thead>\n",
       "    <tr style=\"text-align: right;\">\n",
       "      <th></th>\n",
       "      <th>customer_id</th>\n",
       "      <th>gender_male</th>\n",
       "      <th>senior_citizen</th>\n",
       "      <th>partner</th>\n",
       "      <th>dependents</th>\n",
       "    </tr>\n",
       "  </thead>\n",
       "  <tbody>\n",
       "    <tr>\n",
       "      <th>0</th>\n",
       "      <td>7590-VHVEG</td>\n",
       "      <td>0</td>\n",
       "      <td>0</td>\n",
       "      <td>1</td>\n",
       "      <td>0</td>\n",
       "    </tr>\n",
       "    <tr>\n",
       "      <th>1</th>\n",
       "      <td>5575-GNVDE</td>\n",
       "      <td>1</td>\n",
       "      <td>0</td>\n",
       "      <td>0</td>\n",
       "      <td>0</td>\n",
       "    </tr>\n",
       "    <tr>\n",
       "      <th>2</th>\n",
       "      <td>3668-QPYBK</td>\n",
       "      <td>1</td>\n",
       "      <td>0</td>\n",
       "      <td>0</td>\n",
       "      <td>0</td>\n",
       "    </tr>\n",
       "    <tr>\n",
       "      <th>3</th>\n",
       "      <td>7795-CFOCW</td>\n",
       "      <td>1</td>\n",
       "      <td>0</td>\n",
       "      <td>0</td>\n",
       "      <td>0</td>\n",
       "    </tr>\n",
       "    <tr>\n",
       "      <th>4</th>\n",
       "      <td>9237-HQITU</td>\n",
       "      <td>0</td>\n",
       "      <td>0</td>\n",
       "      <td>0</td>\n",
       "      <td>0</td>\n",
       "    </tr>\n",
       "  </tbody>\n",
       "</table>\n",
       "</div>"
      ],
      "text/plain": [
       "  customer_id  gender_male  senior_citizen  partner  dependents\n",
       "0  7590-VHVEG            0               0        1           0\n",
       "1  5575-GNVDE            1               0        0           0\n",
       "2  3668-QPYBK            1               0        0           0\n",
       "3  7795-CFOCW            1               0        0           0\n",
       "4  9237-HQITU            0               0        0           0"
      ]
     },
     "execution_count": 22,
     "metadata": {},
     "output_type": "execute_result"
    }
   ],
   "source": [
    "df_personal.head()"
   ]
  },
  {
   "cell_type": "code",
   "execution_count": 23,
   "id": "6be5770b",
   "metadata": {},
   "outputs": [
    {
     "data": {
      "text/plain": [
       "0"
      ]
     },
     "execution_count": 23,
     "metadata": {},
     "output_type": "execute_result"
    }
   ],
   "source": [
    "df_personal.duplicated().sum()"
   ]
  },
  {
   "cell_type": "markdown",
   "id": "2a9d6a2a",
   "metadata": {},
   "source": [
    "Column names have been adjusted to snake_script to match other dataframes. The `Gender` columns was changed to `gender_male` to save of future feature engineering, male are value 1, female are value 0. All other yes/no columns have been changed to 1/0."
   ]
  },
  {
   "cell_type": "markdown",
   "id": "fff57c5b",
   "metadata": {},
   "source": [
    "### `df_internet`"
   ]
  },
  {
   "cell_type": "markdown",
   "id": "6e9d0c2f",
   "metadata": {},
   "source": [
    "#### Overview"
   ]
  },
  {
   "cell_type": "code",
   "execution_count": 24,
   "id": "c8df6c69",
   "metadata": {
    "scrolled": false
   },
   "outputs": [
    {
     "name": "stdout",
     "output_type": "stream",
     "text": [
      "<class 'pandas.core.frame.DataFrame'>\n",
      "RangeIndex: 5517 entries, 0 to 5516\n",
      "Data columns (total 8 columns):\n",
      " #   Column            Non-Null Count  Dtype \n",
      "---  ------            --------------  ----- \n",
      " 0   customerID        5517 non-null   object\n",
      " 1   InternetService   5517 non-null   object\n",
      " 2   OnlineSecurity    5517 non-null   object\n",
      " 3   OnlineBackup      5517 non-null   object\n",
      " 4   DeviceProtection  5517 non-null   object\n",
      " 5   TechSupport       5517 non-null   object\n",
      " 6   StreamingTV       5517 non-null   object\n",
      " 7   StreamingMovies   5517 non-null   object\n",
      "dtypes: object(8)\n",
      "memory usage: 344.9+ KB\n"
     ]
    }
   ],
   "source": [
    "df_internet.info()"
   ]
  },
  {
   "cell_type": "code",
   "execution_count": 25,
   "id": "e9285b20",
   "metadata": {},
   "outputs": [
    {
     "data": {
      "text/html": [
       "<div>\n",
       "<style scoped>\n",
       "    .dataframe tbody tr th:only-of-type {\n",
       "        vertical-align: middle;\n",
       "    }\n",
       "\n",
       "    .dataframe tbody tr th {\n",
       "        vertical-align: top;\n",
       "    }\n",
       "\n",
       "    .dataframe thead th {\n",
       "        text-align: right;\n",
       "    }\n",
       "</style>\n",
       "<table border=\"1\" class=\"dataframe\">\n",
       "  <thead>\n",
       "    <tr style=\"text-align: right;\">\n",
       "      <th></th>\n",
       "      <th>customerID</th>\n",
       "      <th>InternetService</th>\n",
       "      <th>OnlineSecurity</th>\n",
       "      <th>OnlineBackup</th>\n",
       "      <th>DeviceProtection</th>\n",
       "      <th>TechSupport</th>\n",
       "      <th>StreamingTV</th>\n",
       "      <th>StreamingMovies</th>\n",
       "    </tr>\n",
       "  </thead>\n",
       "  <tbody>\n",
       "    <tr>\n",
       "      <th>0</th>\n",
       "      <td>7590-VHVEG</td>\n",
       "      <td>DSL</td>\n",
       "      <td>No</td>\n",
       "      <td>Yes</td>\n",
       "      <td>No</td>\n",
       "      <td>No</td>\n",
       "      <td>No</td>\n",
       "      <td>No</td>\n",
       "    </tr>\n",
       "    <tr>\n",
       "      <th>1</th>\n",
       "      <td>5575-GNVDE</td>\n",
       "      <td>DSL</td>\n",
       "      <td>Yes</td>\n",
       "      <td>No</td>\n",
       "      <td>Yes</td>\n",
       "      <td>No</td>\n",
       "      <td>No</td>\n",
       "      <td>No</td>\n",
       "    </tr>\n",
       "    <tr>\n",
       "      <th>2</th>\n",
       "      <td>3668-QPYBK</td>\n",
       "      <td>DSL</td>\n",
       "      <td>Yes</td>\n",
       "      <td>Yes</td>\n",
       "      <td>No</td>\n",
       "      <td>No</td>\n",
       "      <td>No</td>\n",
       "      <td>No</td>\n",
       "    </tr>\n",
       "    <tr>\n",
       "      <th>3</th>\n",
       "      <td>7795-CFOCW</td>\n",
       "      <td>DSL</td>\n",
       "      <td>Yes</td>\n",
       "      <td>No</td>\n",
       "      <td>Yes</td>\n",
       "      <td>Yes</td>\n",
       "      <td>No</td>\n",
       "      <td>No</td>\n",
       "    </tr>\n",
       "    <tr>\n",
       "      <th>4</th>\n",
       "      <td>9237-HQITU</td>\n",
       "      <td>Fiber optic</td>\n",
       "      <td>No</td>\n",
       "      <td>No</td>\n",
       "      <td>No</td>\n",
       "      <td>No</td>\n",
       "      <td>No</td>\n",
       "      <td>No</td>\n",
       "    </tr>\n",
       "  </tbody>\n",
       "</table>\n",
       "</div>"
      ],
      "text/plain": [
       "   customerID InternetService OnlineSecurity OnlineBackup DeviceProtection  \\\n",
       "0  7590-VHVEG             DSL             No          Yes               No   \n",
       "1  5575-GNVDE             DSL            Yes           No              Yes   \n",
       "2  3668-QPYBK             DSL            Yes          Yes               No   \n",
       "3  7795-CFOCW             DSL            Yes           No              Yes   \n",
       "4  9237-HQITU     Fiber optic             No           No               No   \n",
       "\n",
       "  TechSupport StreamingTV StreamingMovies  \n",
       "0          No          No              No  \n",
       "1          No          No              No  \n",
       "2          No          No              No  \n",
       "3         Yes          No              No  \n",
       "4          No          No              No  "
      ]
     },
     "execution_count": 25,
     "metadata": {},
     "output_type": "execute_result"
    }
   ],
   "source": [
    "df_internet.head()"
   ]
  },
  {
   "cell_type": "markdown",
   "id": "a6cafab2",
   "metadata": {},
   "source": [
    "#### Preprocessing"
   ]
  },
  {
   "cell_type": "markdown",
   "id": "2c4fc750",
   "metadata": {},
   "source": [
    "[x] Convert column names to snake_script\n",
    "\n",
    "[x] Convert Yes/No values to 1/0"
   ]
  },
  {
   "cell_type": "code",
   "execution_count": 26,
   "id": "b3d9e484",
   "metadata": {},
   "outputs": [],
   "source": [
    "### Convert column names to snake_script\n",
    "df_internet = df_internet.rename(columns={'customerID' : 'customer_id','InternetService' : 'internet_service' , 'OnlineSecurity' : 'online_security', 'OnlineBackup' : 'online_backup', 'DeviceProtection' : 'device_protection', 'TechSupport' : 'tech_support', 'StreamingTV' : 'streaming_tv', 'StreamingMovies' : 'streaming_movies'})"
   ]
  },
  {
   "cell_type": "code",
   "execution_count": 27,
   "id": "1cfa64d4",
   "metadata": {},
   "outputs": [],
   "source": [
    "### Yes/No columns to 1/0\n",
    "df_internet = df_internet.where(df_internet != 'Yes', 1)\n",
    "df_internet = df_internet.where(df_internet != 'No', 0)\n",
    "df_internet['online_security'] = df_internet['online_security'].astype(int)\n",
    "df_internet['online_backup'] = df_internet['online_backup'].astype(int)\n",
    "df_internet['device_protection'] = df_internet['device_protection'].astype(int)\n",
    "df_internet['tech_support'] = df_internet['tech_support'].astype(int)\n",
    "df_internet['streaming_tv'] = df_internet['streaming_tv'].astype(int)\n",
    "df_internet['streaming_movies'] = df_internet['streaming_movies'].astype(int)"
   ]
  },
  {
   "cell_type": "code",
   "execution_count": 28,
   "id": "6f0e8456",
   "metadata": {},
   "outputs": [],
   "source": [
    "### Create has_internet 1/0\n",
    "has_internet = df_internet['streaming_movies']\n",
    "df_internet['has_internet'] = has_internet\n",
    "df_internet['has_internet'] = df_internet['has_internet'].where(df_internet['has_internet'] < 0, 1)"
   ]
  },
  {
   "cell_type": "code",
   "execution_count": 29,
   "id": "b8fa919f",
   "metadata": {
    "scrolled": true
   },
   "outputs": [
    {
     "name": "stdout",
     "output_type": "stream",
     "text": [
      "<class 'pandas.core.frame.DataFrame'>\n",
      "RangeIndex: 5517 entries, 0 to 5516\n",
      "Data columns (total 9 columns):\n",
      " #   Column             Non-Null Count  Dtype \n",
      "---  ------             --------------  ----- \n",
      " 0   customer_id        5517 non-null   object\n",
      " 1   internet_service   5517 non-null   object\n",
      " 2   online_security    5517 non-null   int32 \n",
      " 3   online_backup      5517 non-null   int32 \n",
      " 4   device_protection  5517 non-null   int32 \n",
      " 5   tech_support       5517 non-null   int32 \n",
      " 6   streaming_tv       5517 non-null   int32 \n",
      " 7   streaming_movies   5517 non-null   int32 \n",
      " 8   has_internet       5517 non-null   int32 \n",
      "dtypes: int32(7), object(2)\n",
      "memory usage: 237.2+ KB\n"
     ]
    }
   ],
   "source": [
    "df_internet.info()"
   ]
  },
  {
   "cell_type": "code",
   "execution_count": 30,
   "id": "bee04c50",
   "metadata": {
    "scrolled": true
   },
   "outputs": [
    {
     "data": {
      "text/html": [
       "<div>\n",
       "<style scoped>\n",
       "    .dataframe tbody tr th:only-of-type {\n",
       "        vertical-align: middle;\n",
       "    }\n",
       "\n",
       "    .dataframe tbody tr th {\n",
       "        vertical-align: top;\n",
       "    }\n",
       "\n",
       "    .dataframe thead th {\n",
       "        text-align: right;\n",
       "    }\n",
       "</style>\n",
       "<table border=\"1\" class=\"dataframe\">\n",
       "  <thead>\n",
       "    <tr style=\"text-align: right;\">\n",
       "      <th></th>\n",
       "      <th>customer_id</th>\n",
       "      <th>internet_service</th>\n",
       "      <th>online_security</th>\n",
       "      <th>online_backup</th>\n",
       "      <th>device_protection</th>\n",
       "      <th>tech_support</th>\n",
       "      <th>streaming_tv</th>\n",
       "      <th>streaming_movies</th>\n",
       "      <th>has_internet</th>\n",
       "    </tr>\n",
       "  </thead>\n",
       "  <tbody>\n",
       "    <tr>\n",
       "      <th>0</th>\n",
       "      <td>7590-VHVEG</td>\n",
       "      <td>DSL</td>\n",
       "      <td>0</td>\n",
       "      <td>1</td>\n",
       "      <td>0</td>\n",
       "      <td>0</td>\n",
       "      <td>0</td>\n",
       "      <td>0</td>\n",
       "      <td>1</td>\n",
       "    </tr>\n",
       "    <tr>\n",
       "      <th>1</th>\n",
       "      <td>5575-GNVDE</td>\n",
       "      <td>DSL</td>\n",
       "      <td>1</td>\n",
       "      <td>0</td>\n",
       "      <td>1</td>\n",
       "      <td>0</td>\n",
       "      <td>0</td>\n",
       "      <td>0</td>\n",
       "      <td>1</td>\n",
       "    </tr>\n",
       "    <tr>\n",
       "      <th>2</th>\n",
       "      <td>3668-QPYBK</td>\n",
       "      <td>DSL</td>\n",
       "      <td>1</td>\n",
       "      <td>1</td>\n",
       "      <td>0</td>\n",
       "      <td>0</td>\n",
       "      <td>0</td>\n",
       "      <td>0</td>\n",
       "      <td>1</td>\n",
       "    </tr>\n",
       "    <tr>\n",
       "      <th>3</th>\n",
       "      <td>7795-CFOCW</td>\n",
       "      <td>DSL</td>\n",
       "      <td>1</td>\n",
       "      <td>0</td>\n",
       "      <td>1</td>\n",
       "      <td>1</td>\n",
       "      <td>0</td>\n",
       "      <td>0</td>\n",
       "      <td>1</td>\n",
       "    </tr>\n",
       "    <tr>\n",
       "      <th>4</th>\n",
       "      <td>9237-HQITU</td>\n",
       "      <td>Fiber optic</td>\n",
       "      <td>0</td>\n",
       "      <td>0</td>\n",
       "      <td>0</td>\n",
       "      <td>0</td>\n",
       "      <td>0</td>\n",
       "      <td>0</td>\n",
       "      <td>1</td>\n",
       "    </tr>\n",
       "  </tbody>\n",
       "</table>\n",
       "</div>"
      ],
      "text/plain": [
       "  customer_id internet_service  online_security  online_backup  \\\n",
       "0  7590-VHVEG              DSL                0              1   \n",
       "1  5575-GNVDE              DSL                1              0   \n",
       "2  3668-QPYBK              DSL                1              1   \n",
       "3  7795-CFOCW              DSL                1              0   \n",
       "4  9237-HQITU      Fiber optic                0              0   \n",
       "\n",
       "   device_protection  tech_support  streaming_tv  streaming_movies  \\\n",
       "0                  0             0             0                 0   \n",
       "1                  1             0             0                 0   \n",
       "2                  0             0             0                 0   \n",
       "3                  1             1             0                 0   \n",
       "4                  0             0             0                 0   \n",
       "\n",
       "   has_internet  \n",
       "0             1  \n",
       "1             1  \n",
       "2             1  \n",
       "3             1  \n",
       "4             1  "
      ]
     },
     "execution_count": 30,
     "metadata": {},
     "output_type": "execute_result"
    }
   ],
   "source": [
    "df_internet.head()"
   ]
  },
  {
   "cell_type": "code",
   "execution_count": 31,
   "id": "b3f376fc",
   "metadata": {},
   "outputs": [
    {
     "data": {
      "text/plain": [
       "0"
      ]
     },
     "execution_count": 31,
     "metadata": {},
     "output_type": "execute_result"
    }
   ],
   "source": [
    "df_internet.duplicated().sum()"
   ]
  },
  {
   "cell_type": "markdown",
   "id": "58299e58",
   "metadata": {},
   "source": [
    "Column names have been converted to snake_script to remain consistent. Yes/No values have been changed to 1/0. An additional column has also been made indicating that the customers on this list have internet service as it is easier at this phase than while prepping for machine learning after the dataframes have been merged."
   ]
  },
  {
   "cell_type": "markdown",
   "id": "5549aba9",
   "metadata": {},
   "source": [
    "### `df_phone`"
   ]
  },
  {
   "cell_type": "markdown",
   "id": "3bae49a6",
   "metadata": {},
   "source": [
    "#### Overview"
   ]
  },
  {
   "cell_type": "code",
   "execution_count": 32,
   "id": "2ce3c727",
   "metadata": {
    "scrolled": true
   },
   "outputs": [
    {
     "name": "stdout",
     "output_type": "stream",
     "text": [
      "<class 'pandas.core.frame.DataFrame'>\n",
      "RangeIndex: 6361 entries, 0 to 6360\n",
      "Data columns (total 2 columns):\n",
      " #   Column         Non-Null Count  Dtype \n",
      "---  ------         --------------  ----- \n",
      " 0   customerID     6361 non-null   object\n",
      " 1   MultipleLines  6361 non-null   object\n",
      "dtypes: object(2)\n",
      "memory usage: 99.5+ KB\n"
     ]
    }
   ],
   "source": [
    "df_phone.info()"
   ]
  },
  {
   "cell_type": "code",
   "execution_count": 33,
   "id": "f613619d",
   "metadata": {},
   "outputs": [
    {
     "data": {
      "text/html": [
       "<div>\n",
       "<style scoped>\n",
       "    .dataframe tbody tr th:only-of-type {\n",
       "        vertical-align: middle;\n",
       "    }\n",
       "\n",
       "    .dataframe tbody tr th {\n",
       "        vertical-align: top;\n",
       "    }\n",
       "\n",
       "    .dataframe thead th {\n",
       "        text-align: right;\n",
       "    }\n",
       "</style>\n",
       "<table border=\"1\" class=\"dataframe\">\n",
       "  <thead>\n",
       "    <tr style=\"text-align: right;\">\n",
       "      <th></th>\n",
       "      <th>customerID</th>\n",
       "      <th>MultipleLines</th>\n",
       "    </tr>\n",
       "  </thead>\n",
       "  <tbody>\n",
       "    <tr>\n",
       "      <th>0</th>\n",
       "      <td>5575-GNVDE</td>\n",
       "      <td>No</td>\n",
       "    </tr>\n",
       "    <tr>\n",
       "      <th>1</th>\n",
       "      <td>3668-QPYBK</td>\n",
       "      <td>No</td>\n",
       "    </tr>\n",
       "    <tr>\n",
       "      <th>2</th>\n",
       "      <td>9237-HQITU</td>\n",
       "      <td>No</td>\n",
       "    </tr>\n",
       "    <tr>\n",
       "      <th>3</th>\n",
       "      <td>9305-CDSKC</td>\n",
       "      <td>Yes</td>\n",
       "    </tr>\n",
       "    <tr>\n",
       "      <th>4</th>\n",
       "      <td>1452-KIOVK</td>\n",
       "      <td>Yes</td>\n",
       "    </tr>\n",
       "  </tbody>\n",
       "</table>\n",
       "</div>"
      ],
      "text/plain": [
       "   customerID MultipleLines\n",
       "0  5575-GNVDE            No\n",
       "1  3668-QPYBK            No\n",
       "2  9237-HQITU            No\n",
       "3  9305-CDSKC           Yes\n",
       "4  1452-KIOVK           Yes"
      ]
     },
     "execution_count": 33,
     "metadata": {},
     "output_type": "execute_result"
    }
   ],
   "source": [
    "df_phone.head()"
   ]
  },
  {
   "cell_type": "markdown",
   "id": "e6b7ee9b",
   "metadata": {},
   "source": [
    "#### Preprocessing"
   ]
  },
  {
   "cell_type": "code",
   "execution_count": 34,
   "id": "26a906c8",
   "metadata": {},
   "outputs": [],
   "source": [
    "### Convert column names to snake_script\n",
    "df_phone = df_phone.rename(columns={'customerID' : 'customer_id','MultipleLines' : 'multiple_lines'})"
   ]
  },
  {
   "cell_type": "code",
   "execution_count": 35,
   "id": "b94e8511",
   "metadata": {},
   "outputs": [],
   "source": [
    "### Yes/No columns to 1/0\n",
    "df_phone = df_phone.where(df_phone != 'Yes', 1)\n",
    "df_phone = df_phone.where(df_phone != 'No', 0)\n",
    "df_phone['multiple_lines'] = df_phone['multiple_lines'].astype(int)"
   ]
  },
  {
   "cell_type": "code",
   "execution_count": 36,
   "id": "dca7edf8",
   "metadata": {},
   "outputs": [],
   "source": [
    "### Add phone_service column as feature engineering\n",
    "phone_service = df_phone['multiple_lines']\n",
    "df_phone['phone_service'] = phone_service\n",
    "df_phone['phone_service'] = df_phone['phone_service'].where(df_phone['phone_service'] < 0, 1)"
   ]
  },
  {
   "cell_type": "code",
   "execution_count": 37,
   "id": "d2afbc38",
   "metadata": {
    "scrolled": false
   },
   "outputs": [
    {
     "name": "stdout",
     "output_type": "stream",
     "text": [
      "<class 'pandas.core.frame.DataFrame'>\n",
      "RangeIndex: 6361 entries, 0 to 6360\n",
      "Data columns (total 3 columns):\n",
      " #   Column          Non-Null Count  Dtype \n",
      "---  ------          --------------  ----- \n",
      " 0   customer_id     6361 non-null   object\n",
      " 1   multiple_lines  6361 non-null   int32 \n",
      " 2   phone_service   6361 non-null   int32 \n",
      "dtypes: int32(2), object(1)\n",
      "memory usage: 99.5+ KB\n"
     ]
    }
   ],
   "source": [
    "df_phone.info()"
   ]
  },
  {
   "cell_type": "code",
   "execution_count": 38,
   "id": "c143bf94",
   "metadata": {
    "scrolled": false
   },
   "outputs": [
    {
     "data": {
      "text/html": [
       "<div>\n",
       "<style scoped>\n",
       "    .dataframe tbody tr th:only-of-type {\n",
       "        vertical-align: middle;\n",
       "    }\n",
       "\n",
       "    .dataframe tbody tr th {\n",
       "        vertical-align: top;\n",
       "    }\n",
       "\n",
       "    .dataframe thead th {\n",
       "        text-align: right;\n",
       "    }\n",
       "</style>\n",
       "<table border=\"1\" class=\"dataframe\">\n",
       "  <thead>\n",
       "    <tr style=\"text-align: right;\">\n",
       "      <th></th>\n",
       "      <th>customer_id</th>\n",
       "      <th>multiple_lines</th>\n",
       "      <th>phone_service</th>\n",
       "    </tr>\n",
       "  </thead>\n",
       "  <tbody>\n",
       "    <tr>\n",
       "      <th>0</th>\n",
       "      <td>5575-GNVDE</td>\n",
       "      <td>0</td>\n",
       "      <td>1</td>\n",
       "    </tr>\n",
       "    <tr>\n",
       "      <th>1</th>\n",
       "      <td>3668-QPYBK</td>\n",
       "      <td>0</td>\n",
       "      <td>1</td>\n",
       "    </tr>\n",
       "    <tr>\n",
       "      <th>2</th>\n",
       "      <td>9237-HQITU</td>\n",
       "      <td>0</td>\n",
       "      <td>1</td>\n",
       "    </tr>\n",
       "    <tr>\n",
       "      <th>3</th>\n",
       "      <td>9305-CDSKC</td>\n",
       "      <td>1</td>\n",
       "      <td>1</td>\n",
       "    </tr>\n",
       "    <tr>\n",
       "      <th>4</th>\n",
       "      <td>1452-KIOVK</td>\n",
       "      <td>1</td>\n",
       "      <td>1</td>\n",
       "    </tr>\n",
       "  </tbody>\n",
       "</table>\n",
       "</div>"
      ],
      "text/plain": [
       "  customer_id  multiple_lines  phone_service\n",
       "0  5575-GNVDE               0              1\n",
       "1  3668-QPYBK               0              1\n",
       "2  9237-HQITU               0              1\n",
       "3  9305-CDSKC               1              1\n",
       "4  1452-KIOVK               1              1"
      ]
     },
     "execution_count": 38,
     "metadata": {},
     "output_type": "execute_result"
    }
   ],
   "source": [
    "df_phone.head()"
   ]
  },
  {
   "cell_type": "code",
   "execution_count": 39,
   "id": "9ea645af",
   "metadata": {},
   "outputs": [
    {
     "data": {
      "text/plain": [
       "0"
      ]
     },
     "execution_count": 39,
     "metadata": {},
     "output_type": "execute_result"
    }
   ],
   "source": [
    "df_phone.duplicated().sum()"
   ]
  },
  {
   "cell_type": "markdown",
   "id": "598364c9",
   "metadata": {},
   "source": [
    "Column names have been converted to snake_script to remain consistent. Yes/No values have been changed to 1/0."
   ]
  },
  {
   "cell_type": "markdown",
   "id": "2b62e0f7",
   "metadata": {},
   "source": [
    "### Create `df_complete`"
   ]
  },
  {
   "cell_type": "markdown",
   "id": "711b938c",
   "metadata": {},
   "source": [
    "#### Merge dataframes"
   ]
  },
  {
   "cell_type": "code",
   "execution_count": 40,
   "id": "fb788dda",
   "metadata": {},
   "outputs": [],
   "source": [
    "df_complete = df_contract.merge(df_personal, on='customer_id', how='outer')\n",
    "df_complete = df_complete.merge(df_internet, on='customer_id', how='outer')\n",
    "df_complete = df_complete.merge(df_phone, on='customer_id', how='outer')"
   ]
  },
  {
   "cell_type": "markdown",
   "id": "b69948f5",
   "metadata": {},
   "source": [
    "The four separate dataframes have been merged into one singular dataframe for ease of use."
   ]
  },
  {
   "cell_type": "markdown",
   "id": "6f0e2101",
   "metadata": {},
   "source": [
    "#### Overview"
   ]
  },
  {
   "cell_type": "code",
   "execution_count": 41,
   "id": "f49677f9",
   "metadata": {
    "scrolled": true
   },
   "outputs": [
    {
     "name": "stdout",
     "output_type": "stream",
     "text": [
      "<class 'pandas.core.frame.DataFrame'>\n",
      "Int64Index: 7043 entries, 0 to 7042\n",
      "Data columns (total 24 columns):\n",
      " #   Column                    Non-Null Count  Dtype         \n",
      "---  ------                    --------------  -----         \n",
      " 0   customer_id               7043 non-null   object        \n",
      " 1   begin_date                7043 non-null   datetime64[ns]\n",
      " 2   end_date                  1869 non-null   datetime64[ns]\n",
      " 3   contract_type             7043 non-null   object        \n",
      " 4   paperless_billing         7043 non-null   int32         \n",
      " 5   payment_method            7043 non-null   object        \n",
      " 6   monthly_charges           7043 non-null   float64       \n",
      " 7   total_charges             7032 non-null   float64       \n",
      " 8   contract_duration_months  1869 non-null   float64       \n",
      " 9   churned                   7043 non-null   int32         \n",
      " 10  gender_male               7043 non-null   int32         \n",
      " 11  senior_citizen            7043 non-null   int64         \n",
      " 12  partner                   7043 non-null   int32         \n",
      " 13  dependents                7043 non-null   int32         \n",
      " 14  internet_service          5517 non-null   object        \n",
      " 15  online_security           5517 non-null   float64       \n",
      " 16  online_backup             5517 non-null   float64       \n",
      " 17  device_protection         5517 non-null   float64       \n",
      " 18  tech_support              5517 non-null   float64       \n",
      " 19  streaming_tv              5517 non-null   float64       \n",
      " 20  streaming_movies          5517 non-null   float64       \n",
      " 21  has_internet              5517 non-null   float64       \n",
      " 22  multiple_lines            6361 non-null   float64       \n",
      " 23  phone_service             6361 non-null   float64       \n",
      "dtypes: datetime64[ns](2), float64(12), int32(5), int64(1), object(4)\n",
      "memory usage: 1.2+ MB\n"
     ]
    }
   ],
   "source": [
    "df_complete.info()"
   ]
  },
  {
   "cell_type": "code",
   "execution_count": 42,
   "id": "7b5bddd9",
   "metadata": {},
   "outputs": [
    {
     "data": {
      "text/html": [
       "<div>\n",
       "<style scoped>\n",
       "    .dataframe tbody tr th:only-of-type {\n",
       "        vertical-align: middle;\n",
       "    }\n",
       "\n",
       "    .dataframe tbody tr th {\n",
       "        vertical-align: top;\n",
       "    }\n",
       "\n",
       "    .dataframe thead th {\n",
       "        text-align: right;\n",
       "    }\n",
       "</style>\n",
       "<table border=\"1\" class=\"dataframe\">\n",
       "  <thead>\n",
       "    <tr style=\"text-align: right;\">\n",
       "      <th></th>\n",
       "      <th>customer_id</th>\n",
       "      <th>begin_date</th>\n",
       "      <th>end_date</th>\n",
       "      <th>contract_type</th>\n",
       "      <th>paperless_billing</th>\n",
       "      <th>payment_method</th>\n",
       "      <th>monthly_charges</th>\n",
       "      <th>total_charges</th>\n",
       "      <th>contract_duration_months</th>\n",
       "      <th>churned</th>\n",
       "      <th>...</th>\n",
       "      <th>internet_service</th>\n",
       "      <th>online_security</th>\n",
       "      <th>online_backup</th>\n",
       "      <th>device_protection</th>\n",
       "      <th>tech_support</th>\n",
       "      <th>streaming_tv</th>\n",
       "      <th>streaming_movies</th>\n",
       "      <th>has_internet</th>\n",
       "      <th>multiple_lines</th>\n",
       "      <th>phone_service</th>\n",
       "    </tr>\n",
       "  </thead>\n",
       "  <tbody>\n",
       "    <tr>\n",
       "      <th>0</th>\n",
       "      <td>7590-VHVEG</td>\n",
       "      <td>2020-01-01</td>\n",
       "      <td>NaT</td>\n",
       "      <td>Monthly</td>\n",
       "      <td>1</td>\n",
       "      <td>Electronic check</td>\n",
       "      <td>29.85</td>\n",
       "      <td>29.85</td>\n",
       "      <td>NaN</td>\n",
       "      <td>0</td>\n",
       "      <td>...</td>\n",
       "      <td>DSL</td>\n",
       "      <td>0.0</td>\n",
       "      <td>1.0</td>\n",
       "      <td>0.0</td>\n",
       "      <td>0.0</td>\n",
       "      <td>0.0</td>\n",
       "      <td>0.0</td>\n",
       "      <td>1.0</td>\n",
       "      <td>NaN</td>\n",
       "      <td>NaN</td>\n",
       "    </tr>\n",
       "    <tr>\n",
       "      <th>1</th>\n",
       "      <td>5575-GNVDE</td>\n",
       "      <td>2017-04-01</td>\n",
       "      <td>NaT</td>\n",
       "      <td>One year</td>\n",
       "      <td>0</td>\n",
       "      <td>Mailed check</td>\n",
       "      <td>56.95</td>\n",
       "      <td>1889.50</td>\n",
       "      <td>NaN</td>\n",
       "      <td>0</td>\n",
       "      <td>...</td>\n",
       "      <td>DSL</td>\n",
       "      <td>1.0</td>\n",
       "      <td>0.0</td>\n",
       "      <td>1.0</td>\n",
       "      <td>0.0</td>\n",
       "      <td>0.0</td>\n",
       "      <td>0.0</td>\n",
       "      <td>1.0</td>\n",
       "      <td>0.0</td>\n",
       "      <td>1.0</td>\n",
       "    </tr>\n",
       "    <tr>\n",
       "      <th>2</th>\n",
       "      <td>3668-QPYBK</td>\n",
       "      <td>2019-10-01</td>\n",
       "      <td>2019-12-01</td>\n",
       "      <td>Monthly</td>\n",
       "      <td>1</td>\n",
       "      <td>Mailed check</td>\n",
       "      <td>53.85</td>\n",
       "      <td>108.15</td>\n",
       "      <td>2.0</td>\n",
       "      <td>1</td>\n",
       "      <td>...</td>\n",
       "      <td>DSL</td>\n",
       "      <td>1.0</td>\n",
       "      <td>1.0</td>\n",
       "      <td>0.0</td>\n",
       "      <td>0.0</td>\n",
       "      <td>0.0</td>\n",
       "      <td>0.0</td>\n",
       "      <td>1.0</td>\n",
       "      <td>0.0</td>\n",
       "      <td>1.0</td>\n",
       "    </tr>\n",
       "    <tr>\n",
       "      <th>3</th>\n",
       "      <td>7795-CFOCW</td>\n",
       "      <td>2016-05-01</td>\n",
       "      <td>NaT</td>\n",
       "      <td>One year</td>\n",
       "      <td>0</td>\n",
       "      <td>Bank transfer (automatic)</td>\n",
       "      <td>42.30</td>\n",
       "      <td>1840.75</td>\n",
       "      <td>NaN</td>\n",
       "      <td>0</td>\n",
       "      <td>...</td>\n",
       "      <td>DSL</td>\n",
       "      <td>1.0</td>\n",
       "      <td>0.0</td>\n",
       "      <td>1.0</td>\n",
       "      <td>1.0</td>\n",
       "      <td>0.0</td>\n",
       "      <td>0.0</td>\n",
       "      <td>1.0</td>\n",
       "      <td>NaN</td>\n",
       "      <td>NaN</td>\n",
       "    </tr>\n",
       "    <tr>\n",
       "      <th>4</th>\n",
       "      <td>9237-HQITU</td>\n",
       "      <td>2019-09-01</td>\n",
       "      <td>2019-11-01</td>\n",
       "      <td>Monthly</td>\n",
       "      <td>1</td>\n",
       "      <td>Electronic check</td>\n",
       "      <td>70.70</td>\n",
       "      <td>151.65</td>\n",
       "      <td>2.0</td>\n",
       "      <td>1</td>\n",
       "      <td>...</td>\n",
       "      <td>Fiber optic</td>\n",
       "      <td>0.0</td>\n",
       "      <td>0.0</td>\n",
       "      <td>0.0</td>\n",
       "      <td>0.0</td>\n",
       "      <td>0.0</td>\n",
       "      <td>0.0</td>\n",
       "      <td>1.0</td>\n",
       "      <td>0.0</td>\n",
       "      <td>1.0</td>\n",
       "    </tr>\n",
       "  </tbody>\n",
       "</table>\n",
       "<p>5 rows × 24 columns</p>\n",
       "</div>"
      ],
      "text/plain": [
       "  customer_id begin_date   end_date contract_type  paperless_billing  \\\n",
       "0  7590-VHVEG 2020-01-01        NaT       Monthly                  1   \n",
       "1  5575-GNVDE 2017-04-01        NaT      One year                  0   \n",
       "2  3668-QPYBK 2019-10-01 2019-12-01       Monthly                  1   \n",
       "3  7795-CFOCW 2016-05-01        NaT      One year                  0   \n",
       "4  9237-HQITU 2019-09-01 2019-11-01       Monthly                  1   \n",
       "\n",
       "              payment_method  monthly_charges  total_charges  \\\n",
       "0           Electronic check            29.85          29.85   \n",
       "1               Mailed check            56.95        1889.50   \n",
       "2               Mailed check            53.85         108.15   \n",
       "3  Bank transfer (automatic)            42.30        1840.75   \n",
       "4           Electronic check            70.70         151.65   \n",
       "\n",
       "   contract_duration_months  churned  ...  internet_service  online_security  \\\n",
       "0                       NaN        0  ...               DSL              0.0   \n",
       "1                       NaN        0  ...               DSL              1.0   \n",
       "2                       2.0        1  ...               DSL              1.0   \n",
       "3                       NaN        0  ...               DSL              1.0   \n",
       "4                       2.0        1  ...       Fiber optic              0.0   \n",
       "\n",
       "   online_backup  device_protection tech_support  streaming_tv  \\\n",
       "0            1.0                0.0          0.0           0.0   \n",
       "1            0.0                1.0          0.0           0.0   \n",
       "2            1.0                0.0          0.0           0.0   \n",
       "3            0.0                1.0          1.0           0.0   \n",
       "4            0.0                0.0          0.0           0.0   \n",
       "\n",
       "   streaming_movies  has_internet  multiple_lines  phone_service  \n",
       "0               0.0           1.0             NaN            NaN  \n",
       "1               0.0           1.0             0.0            1.0  \n",
       "2               0.0           1.0             0.0            1.0  \n",
       "3               0.0           1.0             NaN            NaN  \n",
       "4               0.0           1.0             0.0            1.0  \n",
       "\n",
       "[5 rows x 24 columns]"
      ]
     },
     "execution_count": 42,
     "metadata": {},
     "output_type": "execute_result"
    }
   ],
   "source": [
    "df_complete.head()"
   ]
  },
  {
   "cell_type": "markdown",
   "id": "714b9d97",
   "metadata": {},
   "source": [
    "#### Preprocessing of `df_complete`"
   ]
  },
  {
   "cell_type": "code",
   "execution_count": 43,
   "id": "17690223",
   "metadata": {
    "scrolled": true
   },
   "outputs": [
    {
     "data": {
      "text/plain": [
       "customer_id                    0\n",
       "begin_date                     0\n",
       "end_date                    5174\n",
       "contract_type                  0\n",
       "paperless_billing              0\n",
       "payment_method                 0\n",
       "monthly_charges                0\n",
       "total_charges                 11\n",
       "contract_duration_months    5174\n",
       "churned                        0\n",
       "gender_male                    0\n",
       "senior_citizen                 0\n",
       "partner                        0\n",
       "dependents                     0\n",
       "internet_service            1526\n",
       "online_security             1526\n",
       "online_backup               1526\n",
       "device_protection           1526\n",
       "tech_support                1526\n",
       "streaming_tv                1526\n",
       "streaming_movies            1526\n",
       "has_internet                1526\n",
       "multiple_lines               682\n",
       "phone_service                682\n",
       "dtype: int64"
      ]
     },
     "execution_count": 43,
     "metadata": {},
     "output_type": "execute_result"
    }
   ],
   "source": [
    "df_complete.isna().sum()"
   ]
  },
  {
   "cell_type": "code",
   "execution_count": 44,
   "id": "b8d7740e",
   "metadata": {
    "scrolled": true
   },
   "outputs": [
    {
     "data": {
      "text/html": [
       "<div>\n",
       "<style scoped>\n",
       "    .dataframe tbody tr th:only-of-type {\n",
       "        vertical-align: middle;\n",
       "    }\n",
       "\n",
       "    .dataframe tbody tr th {\n",
       "        vertical-align: top;\n",
       "    }\n",
       "\n",
       "    .dataframe thead th {\n",
       "        text-align: right;\n",
       "    }\n",
       "</style>\n",
       "<table border=\"1\" class=\"dataframe\">\n",
       "  <thead>\n",
       "    <tr style=\"text-align: right;\">\n",
       "      <th></th>\n",
       "      <th>customer_id</th>\n",
       "      <th>begin_date</th>\n",
       "      <th>end_date</th>\n",
       "      <th>contract_type</th>\n",
       "      <th>paperless_billing</th>\n",
       "      <th>payment_method</th>\n",
       "      <th>monthly_charges</th>\n",
       "      <th>total_charges</th>\n",
       "      <th>contract_duration_months</th>\n",
       "      <th>churned</th>\n",
       "      <th>...</th>\n",
       "      <th>internet_service</th>\n",
       "      <th>online_security</th>\n",
       "      <th>online_backup</th>\n",
       "      <th>device_protection</th>\n",
       "      <th>tech_support</th>\n",
       "      <th>streaming_tv</th>\n",
       "      <th>streaming_movies</th>\n",
       "      <th>has_internet</th>\n",
       "      <th>multiple_lines</th>\n",
       "      <th>phone_service</th>\n",
       "    </tr>\n",
       "  </thead>\n",
       "  <tbody>\n",
       "    <tr>\n",
       "      <th>488</th>\n",
       "      <td>4472-LVYGI</td>\n",
       "      <td>2020-02-01</td>\n",
       "      <td>NaT</td>\n",
       "      <td>Two year</td>\n",
       "      <td>1</td>\n",
       "      <td>Bank transfer (automatic)</td>\n",
       "      <td>52.55</td>\n",
       "      <td>NaN</td>\n",
       "      <td>NaN</td>\n",
       "      <td>0</td>\n",
       "      <td>...</td>\n",
       "      <td>DSL</td>\n",
       "      <td>1.0</td>\n",
       "      <td>0.0</td>\n",
       "      <td>1.0</td>\n",
       "      <td>1.0</td>\n",
       "      <td>1.0</td>\n",
       "      <td>0.0</td>\n",
       "      <td>1.0</td>\n",
       "      <td>NaN</td>\n",
       "      <td>NaN</td>\n",
       "    </tr>\n",
       "    <tr>\n",
       "      <th>753</th>\n",
       "      <td>3115-CZMZD</td>\n",
       "      <td>2020-02-01</td>\n",
       "      <td>NaT</td>\n",
       "      <td>Two year</td>\n",
       "      <td>0</td>\n",
       "      <td>Mailed check</td>\n",
       "      <td>20.25</td>\n",
       "      <td>NaN</td>\n",
       "      <td>NaN</td>\n",
       "      <td>0</td>\n",
       "      <td>...</td>\n",
       "      <td>NaN</td>\n",
       "      <td>NaN</td>\n",
       "      <td>NaN</td>\n",
       "      <td>NaN</td>\n",
       "      <td>NaN</td>\n",
       "      <td>NaN</td>\n",
       "      <td>NaN</td>\n",
       "      <td>NaN</td>\n",
       "      <td>0.0</td>\n",
       "      <td>1.0</td>\n",
       "    </tr>\n",
       "    <tr>\n",
       "      <th>936</th>\n",
       "      <td>5709-LVOEQ</td>\n",
       "      <td>2020-02-01</td>\n",
       "      <td>NaT</td>\n",
       "      <td>Two year</td>\n",
       "      <td>0</td>\n",
       "      <td>Mailed check</td>\n",
       "      <td>80.85</td>\n",
       "      <td>NaN</td>\n",
       "      <td>NaN</td>\n",
       "      <td>0</td>\n",
       "      <td>...</td>\n",
       "      <td>DSL</td>\n",
       "      <td>1.0</td>\n",
       "      <td>1.0</td>\n",
       "      <td>1.0</td>\n",
       "      <td>0.0</td>\n",
       "      <td>1.0</td>\n",
       "      <td>1.0</td>\n",
       "      <td>1.0</td>\n",
       "      <td>0.0</td>\n",
       "      <td>1.0</td>\n",
       "    </tr>\n",
       "    <tr>\n",
       "      <th>1082</th>\n",
       "      <td>4367-NUYAO</td>\n",
       "      <td>2020-02-01</td>\n",
       "      <td>NaT</td>\n",
       "      <td>Two year</td>\n",
       "      <td>0</td>\n",
       "      <td>Mailed check</td>\n",
       "      <td>25.75</td>\n",
       "      <td>NaN</td>\n",
       "      <td>NaN</td>\n",
       "      <td>0</td>\n",
       "      <td>...</td>\n",
       "      <td>NaN</td>\n",
       "      <td>NaN</td>\n",
       "      <td>NaN</td>\n",
       "      <td>NaN</td>\n",
       "      <td>NaN</td>\n",
       "      <td>NaN</td>\n",
       "      <td>NaN</td>\n",
       "      <td>NaN</td>\n",
       "      <td>1.0</td>\n",
       "      <td>1.0</td>\n",
       "    </tr>\n",
       "    <tr>\n",
       "      <th>1340</th>\n",
       "      <td>1371-DWPAZ</td>\n",
       "      <td>2020-02-01</td>\n",
       "      <td>NaT</td>\n",
       "      <td>Two year</td>\n",
       "      <td>0</td>\n",
       "      <td>Credit card (automatic)</td>\n",
       "      <td>56.05</td>\n",
       "      <td>NaN</td>\n",
       "      <td>NaN</td>\n",
       "      <td>0</td>\n",
       "      <td>...</td>\n",
       "      <td>DSL</td>\n",
       "      <td>1.0</td>\n",
       "      <td>1.0</td>\n",
       "      <td>1.0</td>\n",
       "      <td>1.0</td>\n",
       "      <td>1.0</td>\n",
       "      <td>0.0</td>\n",
       "      <td>1.0</td>\n",
       "      <td>NaN</td>\n",
       "      <td>NaN</td>\n",
       "    </tr>\n",
       "    <tr>\n",
       "      <th>3331</th>\n",
       "      <td>7644-OMVMY</td>\n",
       "      <td>2020-02-01</td>\n",
       "      <td>NaT</td>\n",
       "      <td>Two year</td>\n",
       "      <td>0</td>\n",
       "      <td>Mailed check</td>\n",
       "      <td>19.85</td>\n",
       "      <td>NaN</td>\n",
       "      <td>NaN</td>\n",
       "      <td>0</td>\n",
       "      <td>...</td>\n",
       "      <td>NaN</td>\n",
       "      <td>NaN</td>\n",
       "      <td>NaN</td>\n",
       "      <td>NaN</td>\n",
       "      <td>NaN</td>\n",
       "      <td>NaN</td>\n",
       "      <td>NaN</td>\n",
       "      <td>NaN</td>\n",
       "      <td>0.0</td>\n",
       "      <td>1.0</td>\n",
       "    </tr>\n",
       "    <tr>\n",
       "      <th>3826</th>\n",
       "      <td>3213-VVOLG</td>\n",
       "      <td>2020-02-01</td>\n",
       "      <td>NaT</td>\n",
       "      <td>Two year</td>\n",
       "      <td>0</td>\n",
       "      <td>Mailed check</td>\n",
       "      <td>25.35</td>\n",
       "      <td>NaN</td>\n",
       "      <td>NaN</td>\n",
       "      <td>0</td>\n",
       "      <td>...</td>\n",
       "      <td>NaN</td>\n",
       "      <td>NaN</td>\n",
       "      <td>NaN</td>\n",
       "      <td>NaN</td>\n",
       "      <td>NaN</td>\n",
       "      <td>NaN</td>\n",
       "      <td>NaN</td>\n",
       "      <td>NaN</td>\n",
       "      <td>1.0</td>\n",
       "      <td>1.0</td>\n",
       "    </tr>\n",
       "    <tr>\n",
       "      <th>4380</th>\n",
       "      <td>2520-SGTTA</td>\n",
       "      <td>2020-02-01</td>\n",
       "      <td>NaT</td>\n",
       "      <td>Two year</td>\n",
       "      <td>0</td>\n",
       "      <td>Mailed check</td>\n",
       "      <td>20.00</td>\n",
       "      <td>NaN</td>\n",
       "      <td>NaN</td>\n",
       "      <td>0</td>\n",
       "      <td>...</td>\n",
       "      <td>NaN</td>\n",
       "      <td>NaN</td>\n",
       "      <td>NaN</td>\n",
       "      <td>NaN</td>\n",
       "      <td>NaN</td>\n",
       "      <td>NaN</td>\n",
       "      <td>NaN</td>\n",
       "      <td>NaN</td>\n",
       "      <td>0.0</td>\n",
       "      <td>1.0</td>\n",
       "    </tr>\n",
       "    <tr>\n",
       "      <th>5218</th>\n",
       "      <td>2923-ARZLG</td>\n",
       "      <td>2020-02-01</td>\n",
       "      <td>NaT</td>\n",
       "      <td>One year</td>\n",
       "      <td>1</td>\n",
       "      <td>Mailed check</td>\n",
       "      <td>19.70</td>\n",
       "      <td>NaN</td>\n",
       "      <td>NaN</td>\n",
       "      <td>0</td>\n",
       "      <td>...</td>\n",
       "      <td>NaN</td>\n",
       "      <td>NaN</td>\n",
       "      <td>NaN</td>\n",
       "      <td>NaN</td>\n",
       "      <td>NaN</td>\n",
       "      <td>NaN</td>\n",
       "      <td>NaN</td>\n",
       "      <td>NaN</td>\n",
       "      <td>0.0</td>\n",
       "      <td>1.0</td>\n",
       "    </tr>\n",
       "    <tr>\n",
       "      <th>6670</th>\n",
       "      <td>4075-WKNIU</td>\n",
       "      <td>2020-02-01</td>\n",
       "      <td>NaT</td>\n",
       "      <td>Two year</td>\n",
       "      <td>0</td>\n",
       "      <td>Mailed check</td>\n",
       "      <td>73.35</td>\n",
       "      <td>NaN</td>\n",
       "      <td>NaN</td>\n",
       "      <td>0</td>\n",
       "      <td>...</td>\n",
       "      <td>DSL</td>\n",
       "      <td>0.0</td>\n",
       "      <td>1.0</td>\n",
       "      <td>1.0</td>\n",
       "      <td>1.0</td>\n",
       "      <td>1.0</td>\n",
       "      <td>0.0</td>\n",
       "      <td>1.0</td>\n",
       "      <td>1.0</td>\n",
       "      <td>1.0</td>\n",
       "    </tr>\n",
       "    <tr>\n",
       "      <th>6754</th>\n",
       "      <td>2775-SEFEE</td>\n",
       "      <td>2020-02-01</td>\n",
       "      <td>NaT</td>\n",
       "      <td>Two year</td>\n",
       "      <td>1</td>\n",
       "      <td>Bank transfer (automatic)</td>\n",
       "      <td>61.90</td>\n",
       "      <td>NaN</td>\n",
       "      <td>NaN</td>\n",
       "      <td>0</td>\n",
       "      <td>...</td>\n",
       "      <td>DSL</td>\n",
       "      <td>1.0</td>\n",
       "      <td>1.0</td>\n",
       "      <td>0.0</td>\n",
       "      <td>1.0</td>\n",
       "      <td>0.0</td>\n",
       "      <td>0.0</td>\n",
       "      <td>1.0</td>\n",
       "      <td>1.0</td>\n",
       "      <td>1.0</td>\n",
       "    </tr>\n",
       "  </tbody>\n",
       "</table>\n",
       "<p>11 rows × 24 columns</p>\n",
       "</div>"
      ],
      "text/plain": [
       "     customer_id begin_date end_date contract_type  paperless_billing  \\\n",
       "488   4472-LVYGI 2020-02-01      NaT      Two year                  1   \n",
       "753   3115-CZMZD 2020-02-01      NaT      Two year                  0   \n",
       "936   5709-LVOEQ 2020-02-01      NaT      Two year                  0   \n",
       "1082  4367-NUYAO 2020-02-01      NaT      Two year                  0   \n",
       "1340  1371-DWPAZ 2020-02-01      NaT      Two year                  0   \n",
       "3331  7644-OMVMY 2020-02-01      NaT      Two year                  0   \n",
       "3826  3213-VVOLG 2020-02-01      NaT      Two year                  0   \n",
       "4380  2520-SGTTA 2020-02-01      NaT      Two year                  0   \n",
       "5218  2923-ARZLG 2020-02-01      NaT      One year                  1   \n",
       "6670  4075-WKNIU 2020-02-01      NaT      Two year                  0   \n",
       "6754  2775-SEFEE 2020-02-01      NaT      Two year                  1   \n",
       "\n",
       "                 payment_method  monthly_charges  total_charges  \\\n",
       "488   Bank transfer (automatic)            52.55            NaN   \n",
       "753                Mailed check            20.25            NaN   \n",
       "936                Mailed check            80.85            NaN   \n",
       "1082               Mailed check            25.75            NaN   \n",
       "1340    Credit card (automatic)            56.05            NaN   \n",
       "3331               Mailed check            19.85            NaN   \n",
       "3826               Mailed check            25.35            NaN   \n",
       "4380               Mailed check            20.00            NaN   \n",
       "5218               Mailed check            19.70            NaN   \n",
       "6670               Mailed check            73.35            NaN   \n",
       "6754  Bank transfer (automatic)            61.90            NaN   \n",
       "\n",
       "      contract_duration_months  churned  ...  internet_service  \\\n",
       "488                        NaN        0  ...               DSL   \n",
       "753                        NaN        0  ...               NaN   \n",
       "936                        NaN        0  ...               DSL   \n",
       "1082                       NaN        0  ...               NaN   \n",
       "1340                       NaN        0  ...               DSL   \n",
       "3331                       NaN        0  ...               NaN   \n",
       "3826                       NaN        0  ...               NaN   \n",
       "4380                       NaN        0  ...               NaN   \n",
       "5218                       NaN        0  ...               NaN   \n",
       "6670                       NaN        0  ...               DSL   \n",
       "6754                       NaN        0  ...               DSL   \n",
       "\n",
       "      online_security  online_backup  device_protection tech_support  \\\n",
       "488               1.0            0.0                1.0          1.0   \n",
       "753               NaN            NaN                NaN          NaN   \n",
       "936               1.0            1.0                1.0          0.0   \n",
       "1082              NaN            NaN                NaN          NaN   \n",
       "1340              1.0            1.0                1.0          1.0   \n",
       "3331              NaN            NaN                NaN          NaN   \n",
       "3826              NaN            NaN                NaN          NaN   \n",
       "4380              NaN            NaN                NaN          NaN   \n",
       "5218              NaN            NaN                NaN          NaN   \n",
       "6670              0.0            1.0                1.0          1.0   \n",
       "6754              1.0            1.0                0.0          1.0   \n",
       "\n",
       "      streaming_tv  streaming_movies  has_internet  multiple_lines  \\\n",
       "488            1.0               0.0           1.0             NaN   \n",
       "753            NaN               NaN           NaN             0.0   \n",
       "936            1.0               1.0           1.0             0.0   \n",
       "1082           NaN               NaN           NaN             1.0   \n",
       "1340           1.0               0.0           1.0             NaN   \n",
       "3331           NaN               NaN           NaN             0.0   \n",
       "3826           NaN               NaN           NaN             1.0   \n",
       "4380           NaN               NaN           NaN             0.0   \n",
       "5218           NaN               NaN           NaN             0.0   \n",
       "6670           1.0               0.0           1.0             1.0   \n",
       "6754           0.0               0.0           1.0             1.0   \n",
       "\n",
       "      phone_service  \n",
       "488             NaN  \n",
       "753             1.0  \n",
       "936             1.0  \n",
       "1082            1.0  \n",
       "1340            NaN  \n",
       "3331            1.0  \n",
       "3826            1.0  \n",
       "4380            1.0  \n",
       "5218            1.0  \n",
       "6670            1.0  \n",
       "6754            1.0  \n",
       "\n",
       "[11 rows x 24 columns]"
      ]
     },
     "execution_count": 44,
     "metadata": {},
     "output_type": "execute_result"
    }
   ],
   "source": [
    "df_complete[df_complete['total_charges'].isna()]"
   ]
  },
  {
   "cell_type": "code",
   "execution_count": 45,
   "id": "45e9788c",
   "metadata": {},
   "outputs": [
    {
     "data": {
      "text/plain": [
       "Timestamp('2020-02-01 00:00:00')"
      ]
     },
     "execution_count": 45,
     "metadata": {},
     "output_type": "execute_result"
    }
   ],
   "source": [
    "df_complete['begin_date'].max()"
   ]
  },
  {
   "cell_type": "code",
   "execution_count": 46,
   "id": "55cfc2d3",
   "metadata": {},
   "outputs": [],
   "source": [
    "df_complete['total_charges'] = df_complete['total_charges'].fillna(0)"
   ]
  },
  {
   "cell_type": "code",
   "execution_count": 47,
   "id": "e6540e30",
   "metadata": {},
   "outputs": [],
   "source": [
    "df_complete['internet_service'] = df_complete['internet_service'].fillna('No Service')"
   ]
  },
  {
   "cell_type": "code",
   "execution_count": 48,
   "id": "9b5eebe8",
   "metadata": {},
   "outputs": [],
   "source": [
    "df_complete['online_security'] = df_complete['online_security'].fillna(0)\n",
    "df_complete['online_security'] = df_complete['online_security'].astype(int)"
   ]
  },
  {
   "cell_type": "code",
   "execution_count": 49,
   "id": "387a0602",
   "metadata": {},
   "outputs": [],
   "source": [
    "df_complete['online_backup'] = df_complete['online_backup'].fillna(0)\n",
    "df_complete['online_backup'] = df_complete['online_backup'].astype(int)"
   ]
  },
  {
   "cell_type": "code",
   "execution_count": 50,
   "id": "4406a1dc",
   "metadata": {},
   "outputs": [],
   "source": [
    "df_complete['device_protection'] = df_complete['device_protection'].fillna(0)\n",
    "df_complete['device_protection'] = df_complete['device_protection'].astype(int)"
   ]
  },
  {
   "cell_type": "code",
   "execution_count": 51,
   "id": "de084160",
   "metadata": {},
   "outputs": [],
   "source": [
    "df_complete['tech_support'] = df_complete['tech_support'].fillna(0)\n",
    "df_complete['tech_support'] = df_complete['tech_support'].astype(int)"
   ]
  },
  {
   "cell_type": "code",
   "execution_count": 52,
   "id": "a1d3942d",
   "metadata": {},
   "outputs": [],
   "source": [
    "df_complete['streaming_tv'] = df_complete['streaming_tv'].fillna(0)\n",
    "df_complete['streaming_tv'] = df_complete['streaming_tv'].astype(int)"
   ]
  },
  {
   "cell_type": "code",
   "execution_count": 53,
   "id": "b2ccfdda",
   "metadata": {},
   "outputs": [],
   "source": [
    "df_complete['streaming_movies'] = df_complete['streaming_movies'].fillna(0)\n",
    "df_complete['streaming_movies'] = df_complete['streaming_movies'].astype(int)"
   ]
  },
  {
   "cell_type": "code",
   "execution_count": 54,
   "id": "89367690",
   "metadata": {},
   "outputs": [],
   "source": [
    "df_complete['multiple_lines'] = df_complete['multiple_lines'].fillna(0)\n",
    "df_complete['multiple_lines'] = df_complete['multiple_lines'].astype(int)"
   ]
  },
  {
   "cell_type": "code",
   "execution_count": 55,
   "id": "4db67cee",
   "metadata": {},
   "outputs": [],
   "source": [
    "df_complete['phone_service'] = df_complete['phone_service'].fillna(0)\n",
    "df_complete['phone_service'] = df_complete['phone_service'].astype(int)"
   ]
  },
  {
   "cell_type": "code",
   "execution_count": 56,
   "id": "6f1fb9a7",
   "metadata": {},
   "outputs": [],
   "source": [
    "df_complete['has_internet'] = df_complete['has_internet'].fillna(0)\n",
    "df_complete['has_internet'] = df_complete['has_internet'].astype(int)"
   ]
  },
  {
   "cell_type": "code",
   "execution_count": 57,
   "id": "08fcfaad",
   "metadata": {
    "scrolled": true
   },
   "outputs": [
    {
     "data": {
      "text/plain": [
       "customer_id                    0\n",
       "begin_date                     0\n",
       "end_date                    5174\n",
       "contract_type                  0\n",
       "paperless_billing              0\n",
       "payment_method                 0\n",
       "monthly_charges                0\n",
       "total_charges                  0\n",
       "contract_duration_months    5174\n",
       "churned                        0\n",
       "gender_male                    0\n",
       "senior_citizen                 0\n",
       "partner                        0\n",
       "dependents                     0\n",
       "internet_service               0\n",
       "online_security                0\n",
       "online_backup                  0\n",
       "device_protection              0\n",
       "tech_support                   0\n",
       "streaming_tv                   0\n",
       "streaming_movies               0\n",
       "has_internet                   0\n",
       "multiple_lines                 0\n",
       "phone_service                  0\n",
       "dtype: int64"
      ]
     },
     "execution_count": 57,
     "metadata": {},
     "output_type": "execute_result"
    }
   ],
   "source": [
    "df_complete.isna().sum()"
   ]
  },
  {
   "cell_type": "markdown",
   "id": "f99fc383",
   "metadata": {},
   "source": [
    "Those Customer IDs that have no value for `total_charges` were those with a begin date of 2020-02-01, which is the latest date. It indicates that they have signed up for a service, but have not been charged yet, making the total charges to their accounts 0.\n",
    "\n",
    "The missing values in `internet_service`, `online_security`, `online_backup`, `device_protection`, `tech_support`, `streaming_tv`, `streaming_movies`, and `multiple_lines` indicate that the customer did not have the service. Missing values in `internet_service` were replaced with \"No Service\" as this column contained other strings such as \"DSL\" or \"Fiber Optic\", the rest of the aforementioned columns had their missing values filled with \"0\" as this indicates that they did not have this particular service.\n",
    "\n",
    "`end_date` and `contract_duration_months` still contain missing values as these only refer to customers that have churned."
   ]
  },
  {
   "cell_type": "markdown",
   "id": "92948e5e",
   "metadata": {},
   "source": [
    "<div class=\"alert alert-success\">\n",
    "<b>Reviewer's comment</b>\n",
    "\n",
    "Good job on data preprocessing! Dataframes were merged correctly\n",
    "\n",
    "</div>"
   ]
  },
  {
   "cell_type": "markdown",
   "id": "9317ee43",
   "metadata": {},
   "source": [
    "## Exploratory Analysis"
   ]
  },
  {
   "cell_type": "code",
   "execution_count": 60,
   "id": "0ec4e159",
   "metadata": {},
   "outputs": [],
   "source": [
    "plt.style.use('seaborn')"
   ]
  },
  {
   "cell_type": "code",
   "execution_count": 61,
   "id": "54af28d0",
   "metadata": {},
   "outputs": [
    {
     "data": {
      "image/png": "[encoded data removed]",
      "text/plain": [
       "<Figure size 1152x576 with 1 Axes>"
      ]
     },
     "metadata": {},
     "output_type": "display_data"
    }
   ],
   "source": [
    "df_complete['contract_duration_months'].plot(kind='hist', bins=36, title='Churned Contract Duration', figsize=[16,8])\n",
    "plt.xlabel('Duration in Months')\n",
    "plt.xticks(rotation=0)\n",
    "plt.show()"
   ]
  },
  {
   "cell_type": "markdown",
   "id": "d62f10a8",
   "metadata": {},
   "source": [
    "A vast majority of churned customers ended their contracts in less than a year, the greatest quantity ending after only a month or two."
   ]
  },
  {
   "cell_type": "code",
   "execution_count": 62,
   "id": "b2760073",
   "metadata": {},
   "outputs": [],
   "source": [
    "eda2 = df_complete.pivot_table(columns='churned',\n",
    "                               index='contract_type',\n",
    "                               values='customer_id',\n",
    "                               aggfunc='count'\n",
    "                              )\n",
    "eda2.reset_index(inplace=True)"
   ]
  },
  {
   "cell_type": "code",
   "execution_count": 63,
   "id": "4a8ef2aa",
   "metadata": {},
   "outputs": [
    {
     "data": {
      "image/png": "[encoded data removed]",
      "text/plain": [
       "<Figure size 1152x576 with 1 Axes>"
      ]
     },
     "metadata": {},
     "output_type": "display_data"
    }
   ],
   "source": [
    "eda2.plot(kind='bar',\n",
    "          x='contract_type',\n",
    "          title='Current vs Churned Contract Types',\n",
    "          figsize=[16,8],\n",
    "         )\n",
    "\n",
    "plt.xticks(rotation= 0)\n",
    "plt.xlabel('Contract Type')\n",
    "plt.ylabel('Number of Customers')\n",
    "plt.legend(['Current Customers', 'Churned'])\n",
    "plt.show()"
   ]
  },
  {
   "cell_type": "code",
   "execution_count": 64,
   "id": "147ae61d",
   "metadata": {},
   "outputs": [],
   "source": [
    "eda3 = df_complete.pivot_table(columns='churned',\n",
    "                               index='payment_method',\n",
    "                               values='contract_type',\n",
    "                               aggfunc='count'\n",
    "                              )\n",
    "eda3.reset_index(inplace=True)"
   ]
  },
  {
   "cell_type": "code",
   "execution_count": 65,
   "id": "f2858ad6",
   "metadata": {},
   "outputs": [
    {
     "data": {
      "image/png": "[encoded data removed]",
      "text/plain": [
       "<Figure size 1152x576 with 1 Axes>"
      ]
     },
     "metadata": {},
     "output_type": "display_data"
    }
   ],
   "source": [
    "eda3.plot(kind='bar',\n",
    "          x='payment_method',\n",
    "          title='Current vs Churned Payment Method',\n",
    "          figsize=[16,8],\n",
    "         )\n",
    "\n",
    "plt.xticks(rotation= 0)\n",
    "plt.xlabel('Payment Method')\n",
    "plt.ylabel('Number of Customers')\n",
    "plt.legend(['Current Customers', 'Churned'])\n",
    "plt.show()"
   ]
  },
  {
   "cell_type": "markdown",
   "id": "1734cdd5",
   "metadata": {},
   "source": [
    "The distribution of current customers is relatively equal between the four different payment options. The highest number and proportion of customers that have churned used electronic checks to pay. Automatic bank transfer, automatic credit card charge, and mailed checks show to be a smaller proportion overall."
   ]
  },
  {
   "cell_type": "code",
   "execution_count": 66,
   "id": "0eba8199",
   "metadata": {},
   "outputs": [],
   "source": [
    "eda4a = df_complete.pivot_table(columns='churned',\n",
    "                                index='customer_id',\n",
    "                                values='monthly_charges'\n",
    "                               )\n",
    "eda4a.reset_index(inplace=True)\n",
    "eda4a.drop(labels='customer_id', axis=1, inplace=True)\n",
    "\n",
    "eda4b = df_complete.pivot_table(columns='churned',\n",
    "                                index='customer_id',\n",
    "                                values='total_charges'\n",
    "                               )\n",
    "eda4b.reset_index(inplace=True)\n",
    "eda4b.drop(labels='customer_id', axis=1, inplace=True)"
   ]
  },
  {
   "cell_type": "code",
   "execution_count": 67,
   "id": "a775de3a",
   "metadata": {},
   "outputs": [
    {
     "data": {
      "image/png": "[encoded data removed]",
      "text/plain": [
       "<Figure size 1152x432 with 1 Axes>"
      ]
     },
     "metadata": {},
     "output_type": "display_data"
    },
    {
     "data": {
      "image/png": "[encoded data removed]",
      "text/plain": [
       "<Figure size 1152x432 with 1 Axes>"
      ]
     },
     "metadata": {},
     "output_type": "display_data"
    }
   ],
   "source": [
    "eda4a.plot(kind='box',\n",
    "           figsize=[16,6],\n",
    "           title='Current vs Churned Monthly Charges',\n",
    "           vert=False\n",
    "          )\n",
    "plt.yticks([1, 2], ['Current Customer', 'Churned'])\n",
    "eda4b.plot(kind='box',\n",
    "           figsize=[16,6],\n",
    "           title='Current vs Churned Total Charges',\n",
    "           vert=False\n",
    "          )\n",
    "plt.yticks([1, 2], ['Current Customer', 'Churned'])\n",
    "plt.show()"
   ]
  },
  {
   "cell_type": "markdown",
   "id": "7f3582f3",
   "metadata": {},
   "source": [
    "By the quartile distributions above, we can see that the average monthly contract of customers that have churned tended to be higher than that of current customers, approximately 80 dollars compared to approximately 65 dollars.\n",
    "\n",
    "Where total charges are concerned, all current customers fall within the quartile bounds with no outliers, while churned customers have spent less money on average, but the upper extents, from approximately $5600 and up are considered outliers for those customers that have churned."
   ]
  },
  {
   "cell_type": "code",
   "execution_count": 68,
   "id": "a5e11e75",
   "metadata": {},
   "outputs": [],
   "source": [
    "eda5a = df_complete.pivot_table(columns='churned',\n",
    "                               index='gender_male',\n",
    "                               values='monthly_charges',\n",
    "                               aggfunc='count'\n",
    "                               )\n",
    "eda5a.reset_index(inplace=True)\n",
    "\n",
    "eda5b = df_complete.pivot_table(columns='churned',\n",
    "                               index='senior_citizen',\n",
    "                               values='monthly_charges',\n",
    "                               aggfunc='count'\n",
    "                               )\n",
    "eda5b.reset_index(inplace=True)\n",
    "\n",
    "eda5c = df_complete.pivot_table(columns='churned',\n",
    "                               index='partner',\n",
    "                               values='monthly_charges',\n",
    "                               aggfunc='count'\n",
    "                               )\n",
    "eda5c.reset_index(inplace=True)\n",
    "\n",
    "eda5d = df_complete.pivot_table(columns='churned',\n",
    "                               index='dependents',\n",
    "                               values='monthly_charges',\n",
    "                               aggfunc='count'\n",
    "                               )\n",
    "eda5d.reset_index(inplace=True)"
   ]
  },
  {
   "cell_type": "code",
   "execution_count": 69,
   "id": "45912b2a",
   "metadata": {
    "scrolled": true
   },
   "outputs": [
    {
     "data": {
      "image/png": "[encoded data removed]",
      "text/plain": [
       "<Figure size 864x576 with 1 Axes>"
      ]
     },
     "metadata": {},
     "output_type": "display_data"
    },
    {
     "data": {
      "image/png": "[encoded data removed]",
      "text/plain": [
       "<Figure size 864x576 with 1 Axes>"
      ]
     },
     "metadata": {},
     "output_type": "display_data"
    },
    {
     "data": {
      "image/png": "[encoded data removed]",
      "text/plain": [
       "<Figure size 864x576 with 1 Axes>"
      ]
     },
     "metadata": {},
     "output_type": "display_data"
    },
    {
     "data": {
      "image/png": "[encoded data removed]",
      "text/plain": [
       "<Figure size 864x576 with 1 Axes>"
      ]
     },
     "metadata": {},
     "output_type": "display_data"
    }
   ],
   "source": [
    "eda5a.plot(kind='bar',\n",
    "           x='gender_male',\n",
    "           title='Current vs Churned Gender',\n",
    "           figsize=[12,8]\n",
    "          )\n",
    "\n",
    "plt.xticks([0, 1], ['Female', 'Male'],rotation= 0)\n",
    "plt.xlabel('')\n",
    "plt.ylabel('Number of Customers')\n",
    "plt.legend(['Current Customers', 'Churned'])\n",
    "\n",
    "eda5b.plot(kind='bar',\n",
    "           x='senior_citizen',\n",
    "           title='Current vs Churned Senior Status',\n",
    "           figsize=[12,8]\n",
    "          )\n",
    "\n",
    "plt.xticks([0, 1], ['Not Senior Citizen', 'Senior Citizen'],rotation= 0)\n",
    "plt.xlabel('')\n",
    "plt.ylabel('Number of Customers')\n",
    "plt.legend(['Current Customers', 'Churned'])\n",
    "\n",
    "eda5c.plot(kind='bar',\n",
    "           x='partner',\n",
    "           title='Current vs Churned Partner',\n",
    "           figsize=[12,8]\n",
    "          )\n",
    "\n",
    "plt.xticks([0, 1], ['No Partner', 'Has Partner'],rotation= 0)\n",
    "plt.xlabel('')\n",
    "plt.ylabel('Number of Customers')\n",
    "plt.legend(['Current Customers', 'Churned'])\n",
    "\n",
    "eda5d.plot(kind='bar',\n",
    "           x='dependents',\n",
    "           title='Current vs Churned Dependents',\n",
    "           figsize=[12,8]\n",
    "          )\n",
    "\n",
    "plt.xticks([0, 1], ['No Dependents', 'Has Dependents'],rotation= 0)\n",
    "plt.xlabel('')\n",
    "plt.ylabel('Number of Customers')\n",
    "plt.legend(['Current Customers', 'Churned'])\n",
    "\n",
    "plt.show()"
   ]
  },
  {
   "cell_type": "markdown",
   "id": "dfad2b21",
   "metadata": {},
   "source": [
    "The demographics of the customers holds to a similar distribution of current customers being between two to four times the number of churned customers in most cases.\n",
    "\n",
    "The notable exceptions are a higher proportion of senior citizens that churned, which my be caused by a higher number of such customers passing away, therefore their contrants would be cancelled.\n",
    "\n",
    "There is also a much lower proportion of churned customers where there are dependents or partners reported as well. This could be that those customers/households hold to a steady budget - so having a constant contract is more convenient and beneficial for their social situation."
   ]
  },
  {
   "cell_type": "code",
   "execution_count": 70,
   "id": "3221e4db",
   "metadata": {},
   "outputs": [],
   "source": [
    "eda6a = df_complete.pivot_table(columns='contract_type',\n",
    "                               index='gender_male',\n",
    "                               values='monthly_charges',\n",
    "                               aggfunc='count'\n",
    "                               )\n",
    "eda6a.reset_index(inplace=True)\n",
    "\n",
    "eda6b = df_complete.pivot_table(columns='contract_type',\n",
    "                               index='senior_citizen',\n",
    "                               values='monthly_charges',\n",
    "                               aggfunc='count'\n",
    "                               )\n",
    "eda6b.reset_index(inplace=True)\n",
    "\n",
    "eda6c = df_complete.pivot_table(columns='contract_type',\n",
    "                               index='partner',\n",
    "                               values='monthly_charges',\n",
    "                               aggfunc='count'\n",
    "                               )\n",
    "eda6c.reset_index(inplace=True)\n",
    "\n",
    "eda6d = df_complete.pivot_table(columns='contract_type',\n",
    "                               index='dependents',\n",
    "                               values='monthly_charges',\n",
    "                               aggfunc='count'\n",
    "                               )\n",
    "eda6d.reset_index(inplace=True)"
   ]
  },
  {
   "cell_type": "code",
   "execution_count": 71,
   "id": "88bd2f81",
   "metadata": {
    "scrolled": true
   },
   "outputs": [
    {
     "data": {
      "image/png": "[encoded data removed]",
      "text/plain": [
       "<Figure size 864x576 with 1 Axes>"
      ]
     },
     "metadata": {},
     "output_type": "display_data"
    },
    {
     "data": {
      "image/png": "[encoded data removed]",
      "text/plain": [
       "<Figure size 864x576 with 1 Axes>"
      ]
     },
     "metadata": {},
     "output_type": "display_data"
    },
    {
     "data": {
      "image/png": "[encoded data removed]",
      "text/plain": [
       "<Figure size 864x576 with 1 Axes>"
      ]
     },
     "metadata": {},
     "output_type": "display_data"
    },
    {
     "data": {
      "image/png": "[encoded data removed]",
      "text/plain": [
       "<Figure size 864x576 with 1 Axes>"
      ]
     },
     "metadata": {},
     "output_type": "display_data"
    }
   ],
   "source": [
    "eda6a.plot(kind='bar',\n",
    "           x='gender_male',\n",
    "           title='Contract Type by Gender',\n",
    "           figsize=[12,8]\n",
    "          )\n",
    "\n",
    "plt.xticks([0, 1], ['Female', 'Male'],rotation= 0)\n",
    "plt.xlabel('')\n",
    "plt.ylabel('Number of Customers')\n",
    "plt.legend(['Monthly', 'One Year', 'Two Year'])\n",
    "\n",
    "eda6b.plot(kind='bar',\n",
    "           x='senior_citizen',\n",
    "           title='Contract Type by Senior Status',\n",
    "           figsize=[12,8]\n",
    "          )\n",
    "\n",
    "plt.xticks([0, 1], ['Not Senior Citizen', 'Senior Citizen'],rotation= 0)\n",
    "plt.xlabel('')\n",
    "plt.ylabel('Number of Customers')\n",
    "plt.legend(['Monthly', 'One Year', 'Two Year'])\n",
    "\n",
    "eda6c.plot(kind='bar',\n",
    "           x='partner',\n",
    "           title='Contract Type by Partner',\n",
    "           figsize=[12,8]\n",
    "          )\n",
    "\n",
    "plt.xticks([0, 1], ['No Partner', 'Has Partner'],rotation= 0)\n",
    "plt.xlabel('')\n",
    "plt.ylabel('Number of Customers')\n",
    "plt.legend(['Monthly', 'One Year', 'Two Year'])\n",
    "\n",
    "eda6d.plot(kind='bar',\n",
    "           x='dependents',\n",
    "           title='Contract Type by Dependents',\n",
    "           figsize=[12,8]\n",
    "          )\n",
    "\n",
    "plt.xticks([0, 1], ['No Dependents', 'Has Dependents'],rotation= 0)\n",
    "plt.xlabel('')\n",
    "plt.ylabel('Number of Customers')\n",
    "plt.legend(['Monthly', 'One Year', 'Two Year'])\n",
    "\n",
    "plt.show()"
   ]
  },
  {
   "cell_type": "markdown",
   "id": "948b0d93",
   "metadata": {},
   "source": [
    "Monthly contracts are by far the most common and popular option, with one or two year contracts typically being at about a quarter to a third of the amounts. \n",
    "\n",
    "The exceptions to this are that with senior citizens, monthly contracts have a slightly higher proportion yet, and with customers that have a partner or dependents, the three contract types are relatively even. The reason for this follows with the churn rate reasoning above. Some senior citizens may not get a long contract as they are planning to pass away sooner than a younger customer, and those customers/households that have partners and/or dependents are more comfortable committing to a longer term contract for the stability it offers."
   ]
  },
  {
   "cell_type": "code",
   "execution_count": 72,
   "id": "fb204c7c",
   "metadata": {},
   "outputs": [],
   "source": [
    "eda7 = df_complete.pivot_table(columns='churned',\n",
    "                               index='internet_service',\n",
    "                               values='customer_id',\n",
    "                               aggfunc='count'\n",
    "                              )\n",
    "eda7.reset_index(inplace=True)"
   ]
  },
  {
   "cell_type": "code",
   "execution_count": 73,
   "id": "9f00240e",
   "metadata": {},
   "outputs": [
    {
     "data": {
      "image/png": "[encoded data removed]",
      "text/plain": [
       "<Figure size 1152x576 with 1 Axes>"
      ]
     },
     "metadata": {},
     "output_type": "display_data"
    }
   ],
   "source": [
    "eda7.plot(kind='bar',\n",
    "          x='internet_service',\n",
    "          title='Current vs Churned Internet Service',\n",
    "          figsize=[16,8],\n",
    "         )\n",
    "\n",
    "plt.xticks(rotation= 0)\n",
    "plt.xlabel('Internet Service')\n",
    "plt.ylabel('Number of Customers')\n",
    "plt.legend(['Current Customers', 'Churned'])\n",
    "plt.show()"
   ]
  },
  {
   "cell_type": "markdown",
   "id": "09220fcb",
   "metadata": {},
   "source": [
    "The most popular internet service was DSL, followed by fiber optic, with no internet service as the least popular.\n",
    "\n",
    "The largest proportion and number of customers that have churned are those customers that had the fiber optic internet service, while the lowest proportion and number of customers that have churned did not have an internet service."
   ]
  },
  {
   "cell_type": "code",
   "execution_count": 74,
   "id": "a12615c2",
   "metadata": {},
   "outputs": [],
   "source": [
    "eda8 = df_complete.pivot_table(columns='contract_type',\n",
    "                               index='internet_service',\n",
    "                               values='customer_id',\n",
    "                               aggfunc='count'\n",
    "                              )\n",
    "eda8.reset_index(inplace=True)"
   ]
  },
  {
   "cell_type": "code",
   "execution_count": 75,
   "id": "94e1af01",
   "metadata": {},
   "outputs": [
    {
     "data": {
      "image/png": "[encoded data removed]",
      "text/plain": [
       "<Figure size 1152x576 with 1 Axes>"
      ]
     },
     "metadata": {},
     "output_type": "display_data"
    }
   ],
   "source": [
    "eda8.plot(kind='bar',\n",
    "          x='internet_service',\n",
    "          title='Contract Type by Internet Service',\n",
    "          figsize=[16,8],\n",
    "         )\n",
    "\n",
    "plt.xticks(rotation= 0)\n",
    "plt.xlabel('Internet Service')\n",
    "plt.ylabel('Number of Customers')\n",
    "plt.legend(['Monthly', 'One Year', 'Two Year'])\n",
    "plt.show()"
   ]
  },
  {
   "cell_type": "markdown",
   "id": "d678dafe",
   "metadata": {},
   "source": [
    "The most popular contract type by a fair margin is the monthly or month-to-month plan, where the total number of each one and two-year contracts are relatively similar. The most popular option out of the shown combinations is the monthly plan on fiber optic internet, which based on previous information presented - both monthly contracts and fiber optic internet service yielding higher numbers of churned customers, the high degree of short term contracts makes sense."
   ]
  },
  {
   "cell_type": "code",
   "execution_count": 76,
   "id": "7f32cfa7",
   "metadata": {},
   "outputs": [],
   "source": [
    "eda9a = df_complete.pivot_table(columns='churned',\n",
    "                               index='online_security',\n",
    "                               values='monthly_charges',\n",
    "                               aggfunc='count'\n",
    "                               )\n",
    "eda9a.reset_index(inplace=True)\n",
    "\n",
    "eda9b = df_complete.pivot_table(columns='churned',\n",
    "                               index='online_backup',\n",
    "                               values='monthly_charges',\n",
    "                               aggfunc='count'\n",
    "                               )\n",
    "eda9b.reset_index(inplace=True)\n",
    "\n",
    "eda9c = df_complete.pivot_table(columns='churned',\n",
    "                               index='device_protection',\n",
    "                               values='monthly_charges',\n",
    "                               aggfunc='count'\n",
    "                               )\n",
    "eda9c.reset_index(inplace=True)\n",
    "\n",
    "eda9d = df_complete.pivot_table(columns='churned',\n",
    "                               index='tech_support',\n",
    "                               values='monthly_charges',\n",
    "                               aggfunc='count'\n",
    "                               )\n",
    "eda9d.reset_index(inplace=True)\n",
    "\n",
    "eda9e = df_complete.pivot_table(columns='churned',\n",
    "                               index='streaming_tv',\n",
    "                               values='monthly_charges',\n",
    "                               aggfunc='count'\n",
    "                               )\n",
    "eda9e.reset_index(inplace=True)\n",
    "\n",
    "eda9f = df_complete.pivot_table(columns='churned',\n",
    "                               index='streaming_movies',\n",
    "                               values='monthly_charges',\n",
    "                               aggfunc='count'\n",
    "                               )\n",
    "eda9f.reset_index(inplace=True)\n",
    "\n",
    "eda9g = df_complete.pivot_table(columns='churned',\n",
    "                               index='multiple_lines',\n",
    "                               values='monthly_charges',\n",
    "                               aggfunc='count'\n",
    "                               )\n",
    "eda9g.reset_index(inplace=True)"
   ]
  },
  {
   "cell_type": "code",
   "execution_count": 77,
   "id": "a64b969b",
   "metadata": {
    "scrolled": true
   },
   "outputs": [
    {
     "data": {
      "image/png": "[encoded data removed]",
      "text/plain": [
       "<Figure size 864x576 with 1 Axes>"
      ]
     },
     "metadata": {},
     "output_type": "display_data"
    },
    {
     "data": {
      "image/png": "[encoded data removed]",
      "text/plain": [
       "<Figure size 864x576 with 1 Axes>"
      ]
     },
     "metadata": {},
     "output_type": "display_data"
    },
    {
     "data": {
      "image/png": "[encoded data removed]",
      "text/plain": [
       "<Figure size 864x576 with 1 Axes>"
      ]
     },
     "metadata": {},
     "output_type": "display_data"
    },
    {
     "data": {
      "image/png": "[encoded data removed]",
      "text/plain": [
       "<Figure size 864x576 with 1 Axes>"
      ]
     },
     "metadata": {},
     "output_type": "display_data"
    },
    {
     "data": {
      "image/png": "[encoded data removed]",
      "text/plain": [
       "<Figure size 864x576 with 1 Axes>"
      ]
     },
     "metadata": {},
     "output_type": "display_data"
    },
    {
     "data": {
      "image/png": "[encoded data removed]",
      "text/plain": [
       "<Figure size 864x576 with 1 Axes>"
      ]
     },
     "metadata": {},
     "output_type": "display_data"
    },
    {
     "data": {
      "image/png": "[encoded data removed]",
      "text/plain": [
       "<Figure size 864x576 with 1 Axes>"
      ]
     },
     "metadata": {},
     "output_type": "display_data"
    }
   ],
   "source": [
    "eda9a.plot(kind='bar',\n",
    "           x='online_security',\n",
    "           title='Current vs Churned Online Security',\n",
    "           figsize=[12,8]\n",
    "          )\n",
    "\n",
    "plt.xticks([0, 1], ['No Online Security', 'Has Online Security'],rotation= 0)\n",
    "plt.xlabel('')\n",
    "plt.ylabel('Number of Customers')\n",
    "plt.legend(['Current Customers', 'Churned'])\n",
    "\n",
    "eda9b.plot(kind='bar',\n",
    "           x='online_backup',\n",
    "           title='Current vs Churned Online Backup',\n",
    "           figsize=[12,8]\n",
    "          )\n",
    "\n",
    "plt.xticks([0, 1], ['No Online Backup', 'Has Online Backup'],rotation= 0)\n",
    "plt.xlabel('')\n",
    "plt.ylabel('Number of Customers')\n",
    "plt.legend(['Current Customers', 'Churned'])\n",
    "\n",
    "eda9c.plot(kind='bar',\n",
    "           x='device_protection',\n",
    "           title='Current vs Churned Decive Protection',\n",
    "           figsize=[12,8]\n",
    "          )\n",
    "\n",
    "plt.xticks([0, 1], ['No Device Protection', 'Has Device Protection'],rotation= 0)\n",
    "plt.xlabel('')\n",
    "plt.ylabel('Number of Customers')\n",
    "plt.legend(['Current Customers', 'Churned'])\n",
    "\n",
    "eda9d.plot(kind='bar',\n",
    "           x='tech_support',\n",
    "           title='Current vs Churned Tech Support',\n",
    "           figsize=[12,8]\n",
    "          )\n",
    "\n",
    "plt.xticks([0, 1], ['No Tech Support', 'Has Tech Support'],rotation= 0)\n",
    "plt.xlabel('')\n",
    "plt.ylabel('Number of Customers')\n",
    "plt.legend(['Current Customers', 'Churned'])\n",
    "\n",
    "eda9e.plot(kind='bar',\n",
    "           x='streaming_tv',\n",
    "           title='Current vs Churned TV Streaming',\n",
    "           figsize=[12,8]\n",
    "          )\n",
    "\n",
    "plt.xticks([0, 1], ['No Streaming', 'Has Streaming'],rotation= 0)\n",
    "plt.xlabel('')\n",
    "plt.ylabel('Number of Customers')\n",
    "plt.legend(['Current Customers', 'Churned'])\n",
    "\n",
    "eda9f.plot(kind='bar',\n",
    "           x='streaming_movies',\n",
    "           title='Current vs Churned Movie Streaming',\n",
    "           figsize=[12,8]\n",
    "          )\n",
    "\n",
    "plt.xticks([0, 1], ['No Streaming', 'Has Streaming'],rotation= 0)\n",
    "plt.xlabel('')\n",
    "plt.ylabel('Number of Customers')\n",
    "plt.legend(['Current Customers', 'Churned'])\n",
    "\n",
    "eda9g.plot(kind='bar',\n",
    "           x='multiple_lines',\n",
    "           title='Current vs Churned Multiple Lines',\n",
    "           figsize=[12,8]\n",
    "          )\n",
    "\n",
    "plt.xticks([0, 1], ['No Multiple Lines', 'Has Multiple Lines'],rotation= 0)\n",
    "plt.xlabel('')\n",
    "plt.ylabel('Number of Customers')\n",
    "plt.legend(['Current Customers', 'Churned'])\n",
    "\n",
    "plt.show()"
   ]
  },
  {
   "cell_type": "markdown",
   "id": "f3300b45",
   "metadata": {},
   "source": [
    "Customers that have online security, online backup, device protection, and tech suport show to churn at a lower proportion than those that do not. This could be because they have more services that they utilize and benefit from.\n",
    "\n",
    "The other three, tv streaming, movie streaming, and multiple lines show a slightly higher proportion of churning that have those services, though not to a great degree as they fall within normal proportions that we have seen before. So there is unlikely to be a correlation between these services individually and a customer churning."
   ]
  },
  {
   "cell_type": "code",
   "execution_count": 78,
   "id": "5afa332d",
   "metadata": {},
   "outputs": [],
   "source": [
    "eda10a = df_complete.pivot_table(columns='contract_type',\n",
    "                               index='online_security',\n",
    "                               values='monthly_charges',\n",
    "                               aggfunc='count'\n",
    "                               )\n",
    "eda10a.reset_index(inplace=True)\n",
    "\n",
    "eda10b = df_complete.pivot_table(columns='contract_type',\n",
    "                               index='online_backup',\n",
    "                               values='monthly_charges',\n",
    "                               aggfunc='count'\n",
    "                               )\n",
    "eda10b.reset_index(inplace=True)\n",
    "\n",
    "eda10c = df_complete.pivot_table(columns='contract_type',\n",
    "                               index='device_protection',\n",
    "                               values='monthly_charges',\n",
    "                               aggfunc='count'\n",
    "                               )\n",
    "eda10c.reset_index(inplace=True)\n",
    "\n",
    "eda10d = df_complete.pivot_table(columns='contract_type',\n",
    "                               index='tech_support',\n",
    "                               values='monthly_charges',\n",
    "                               aggfunc='count'\n",
    "                               )\n",
    "eda10d.reset_index(inplace=True)\n",
    "\n",
    "\n",
    "eda10e = df_complete.pivot_table(columns='contract_type',\n",
    "                               index='streaming_tv',\n",
    "                               values='monthly_charges',\n",
    "                               aggfunc='count'\n",
    "                               )\n",
    "eda10e.reset_index(inplace=True)\n",
    "\n",
    "eda10f = df_complete.pivot_table(columns='contract_type',\n",
    "                               index='streaming_movies',\n",
    "                               values='monthly_charges',\n",
    "                               aggfunc='count'\n",
    "                               )\n",
    "eda10f.reset_index(inplace=True)\n",
    "\n",
    "eda10g = df_complete.pivot_table(columns='contract_type',\n",
    "                               index='multiple_lines',\n",
    "                               values='monthly_charges',\n",
    "                               aggfunc='count'\n",
    "                               )\n",
    "eda10g.reset_index(inplace=True)"
   ]
  },
  {
   "cell_type": "code",
   "execution_count": 79,
   "id": "ee445fc4",
   "metadata": {
    "scrolled": true
   },
   "outputs": [
    {
     "data": {
      "image/png": "[encoded data removed]",
      "text/plain": [
       "<Figure size 864x576 with 1 Axes>"
      ]
     },
     "metadata": {},
     "output_type": "display_data"
    },
    {
     "data": {
      "image/png": "[encoded data removed]",
      "text/plain": [
       "<Figure size 864x576 with 1 Axes>"
      ]
     },
     "metadata": {},
     "output_type": "display_data"
    },
    {
     "data": {
      "image/png": "[encoded data removed]",
      "text/plain": [
       "<Figure size 864x576 with 1 Axes>"
      ]
     },
     "metadata": {},
     "output_type": "display_data"
    },
    {
     "data": {
      "image/png": "[encoded data removed]",
      "text/plain": [
       "<Figure size 864x576 with 1 Axes>"
      ]
     },
     "metadata": {},
     "output_type": "display_data"
    },
    {
     "data": {
      "image/png": "[encoded data removed]",
      "text/plain": [
       "<Figure size 864x576 with 1 Axes>"
      ]
     },
     "metadata": {},
     "output_type": "display_data"
    },
    {
     "data": {
      "image/png": "[encoded data removed]",
      "text/plain": [
       "<Figure size 864x576 with 1 Axes>"
      ]
     },
     "metadata": {},
     "output_type": "display_data"
    },
    {
     "data": {
      "image/png": "[encoded data removed]",
      "text/plain": [
       "<Figure size 864x576 with 1 Axes>"
      ]
     },
     "metadata": {},
     "output_type": "display_data"
    }
   ],
   "source": [
    "eda10a.plot(kind='bar',\n",
    "           x='online_security',\n",
    "           title='Contract Type and Online Security',\n",
    "           figsize=[12,8]\n",
    "          )\n",
    "\n",
    "plt.xticks([0, 1], ['No Online Security', 'Has Online Security'],rotation= 0)\n",
    "plt.xlabel('')\n",
    "plt.ylabel('Number of Customers')\n",
    "plt.legend(['Monthly', 'One Year', 'Two Year'])\n",
    "\n",
    "eda10b.plot(kind='bar',\n",
    "           x='online_backup',\n",
    "           title='Contract Type and Online Backup',\n",
    "           figsize=[12,8]\n",
    "          )\n",
    "\n",
    "plt.xticks([0, 1], ['No Online Backup', 'Has Online Backup'],rotation= 0)\n",
    "plt.xlabel('')\n",
    "plt.ylabel('Number of Customers')\n",
    "plt.legend(['Monthly', 'One Year', 'Two Year'])\n",
    "\n",
    "eda10c.plot(kind='bar',\n",
    "           x='device_protection',\n",
    "           title='Contract Type and Device Protection',\n",
    "           figsize=[12,8]\n",
    "          )\n",
    "\n",
    "plt.xticks([0, 1], ['No Device Protection', 'Has Device Protection'],rotation= 0)\n",
    "plt.xlabel('')\n",
    "plt.ylabel('Number of Customers')\n",
    "plt.legend(['Monthly', 'One Year', 'Two Year'])\n",
    "\n",
    "eda10d.plot(kind='bar',\n",
    "           x='tech_support',\n",
    "           title='Contract Type and Tech Support',\n",
    "           figsize=[12,8]\n",
    "          )\n",
    "\n",
    "plt.xticks([0, 1], ['No Tech Support', 'Has Tech Support'],rotation= 0)\n",
    "plt.xlabel('')\n",
    "plt.ylabel('Number of Customers')\n",
    "plt.legend(['Monthly', 'One Year', 'Two Year'])\n",
    "\n",
    "eda10e.plot(kind='bar',\n",
    "           x='streaming_tv',\n",
    "           title='Contract Type and TV Streaming',\n",
    "           figsize=[12,8]\n",
    "          )\n",
    "\n",
    "plt.xticks([0, 1], ['No Streaming', 'Has Streaming'],rotation= 0)\n",
    "plt.xlabel('')\n",
    "plt.ylabel('Number of Customers')\n",
    "plt.legend(['Monthly', 'One Year', 'Two Year'])\n",
    "\n",
    "eda10f.plot(kind='bar',\n",
    "           x='streaming_movies',\n",
    "           title='Contract Type and Movie Streaming',\n",
    "           figsize=[12,8]\n",
    "          )\n",
    "\n",
    "plt.xticks([0, 1], ['No Streaming', 'Has Streaming'],rotation= 0)\n",
    "plt.xlabel('')\n",
    "plt.ylabel('Number of Customers')\n",
    "plt.legend(['Monthly', 'One Year', 'Two Year'])\n",
    "\n",
    "eda10g.plot(kind='bar',\n",
    "           x='multiple_lines',\n",
    "           title='Contract Type and Multiple Lines',\n",
    "           figsize=[12,8]\n",
    "          )\n",
    "\n",
    "plt.xticks([0, 1], ['No Multiple Lines', 'Has Multiple Lines'],rotation= 0)\n",
    "plt.xlabel('')\n",
    "plt.ylabel('Number of Customers')\n",
    "plt.legend(['Monthly', 'One Year', 'Two Year'])\n",
    "\n",
    "\n",
    "\n",
    "plt.show()"
   ]
  },
  {
   "cell_type": "markdown",
   "id": "6fd97c9e",
   "metadata": {},
   "source": [
    "A higher proportion of customers that have one or two year contracts have additional services such as online security or tech support. There is a slightly higher than normal proportion for services like streaming and multiple lines as well, but not to the degree that the contraact types for those that have such services are comparable."
   ]
  },
  {
   "cell_type": "markdown",
   "id": "6039ea79",
   "metadata": {},
   "source": [
    "<div class=\"alert alert-success\">\n",
    "<b>Reviewer's comment</b>\n",
    "\n",
    "Very nice EDA!\n",
    "\n",
    "</div>"
   ]
  },
  {
   "cell_type": "markdown",
   "id": "5dd4559c",
   "metadata": {},
   "source": [
    "## Model Training"
   ]
  },
  {
   "cell_type": "markdown",
   "id": "f2bc8d1c",
   "metadata": {},
   "source": [
    "### Load libraries for Machine Learning"
   ]
  },
  {
   "cell_type": "code",
   "execution_count": 80,
   "id": "c8ed8a94",
   "metadata": {},
   "outputs": [],
   "source": [
    "from sklearn.model_selection import train_test_split\n",
    "from sklearn.model_selection import cross_val_score\n",
    "from sklearn.metrics import roc_auc_score\n",
    "from sklearn.metrics import f1_score\n",
    "from sklearn.preprocessing import StandardScaler\n",
    "\n",
    "from sklearn.linear_model import LogisticRegression\n",
    "from sklearn.tree import DecisionTreeClassifier\n",
    "from sklearn.ensemble import RandomForestClassifier"
   ]
  },
  {
   "cell_type": "code",
   "execution_count": 81,
   "id": "30c6fd3f",
   "metadata": {
    "scrolled": true
   },
   "outputs": [
    {
     "name": "stdout",
     "output_type": "stream",
     "text": [
      "Requirement already satisfied: lightgbm in c:\\users\\houle\\anaconda3\\envs\\praktikum_env\\lib\\site-packages (4.0.0)\n",
      "Requirement already satisfied: numpy in c:\\users\\houle\\anaconda3\\envs\\praktikum_env\\lib\\site-packages (from lightgbm) (1.18.3)\n",
      "Requirement already satisfied: scipy in c:\\users\\houle\\anaconda3\\envs\\praktikum_env\\lib\\site-packages (from lightgbm) (1.4.1)\n",
      "Note: you may need to restart the kernel to use updated packages.\n"
     ]
    }
   ],
   "source": [
    "pip install lightgbm"
   ]
  },
  {
   "cell_type": "code",
   "execution_count": 82,
   "id": "fb0cdf9c",
   "metadata": {},
   "outputs": [
    {
     "name": "stdout",
     "output_type": "stream",
     "text": [
      "Requirement already satisfied: catboost in c:\\users\\houle\\anaconda3\\envs\\praktikum_env\\lib\\site-packages (1.2)\n",
      "Requirement already satisfied: graphviz in c:\\users\\houle\\anaconda3\\envs\\praktikum_env\\lib\\site-packages (from catboost) (0.20.1)\n",
      "Requirement already satisfied: matplotlib in c:\\users\\houle\\anaconda3\\envs\\praktikum_env\\lib\\site-packages (from catboost) (3.1.0)\n",
      "Requirement already satisfied: numpy>=1.16.0 in c:\\users\\houle\\anaconda3\\envs\\praktikum_env\\lib\\site-packages (from catboost) (1.18.3)\n",
      "Requirement already satisfied: pandas>=0.24 in c:\\users\\houle\\anaconda3\\envs\\praktikum_env\\lib\\site-packages (from catboost) (1.3.5)\n",
      "Requirement already satisfied: scipy in c:\\users\\houle\\anaconda3\\envs\\praktikum_env\\lib\\site-packages (from catboost) (1.4.1)\n",
      "Requirement already satisfied: plotly in c:\\users\\houle\\anaconda3\\envs\\praktikum_env\\lib\\site-packages (from catboost) (4.1.0)\n",
      "Requirement already satisfied: six in c:\\users\\houle\\anaconda3\\envs\\praktikum_env\\lib\\site-packages (from catboost) (1.16.0)\n",
      "Requirement already satisfied: python-dateutil>=2.7.3 in c:\\users\\houle\\anaconda3\\envs\\praktikum_env\\lib\\site-packages (from pandas>=0.24->catboost) (2.8.2)\n",
      "Requirement already satisfied: pytz>=2017.3 in c:\\users\\houle\\anaconda3\\envs\\praktikum_env\\lib\\site-packages (from pandas>=0.24->catboost) (2023.3)\n",
      "Requirement already satisfied: cycler>=0.10 in c:\\users\\houle\\anaconda3\\envs\\praktikum_env\\lib\\site-packages (from matplotlib->catboost) (0.11.0)\n",
      "Requirement already satisfied: kiwisolver>=1.0.1 in c:\\users\\houle\\anaconda3\\envs\\praktikum_env\\lib\\site-packages (from matplotlib->catboost) (1.4.4)\n",
      "Requirement already satisfied: pyparsing!=2.0.4,!=2.1.2,!=2.1.6,>=2.0.1 in c:\\users\\houle\\anaconda3\\envs\\praktikum_env\\lib\\site-packages (from matplotlib->catboost) (3.1.1)\n",
      "Requirement already satisfied: retrying>=1.3.3 in c:\\users\\houle\\anaconda3\\envs\\praktikum_env\\lib\\site-packages (from plotly->catboost) (1.3.4)\n",
      "Requirement already satisfied: typing-extensions in c:\\users\\houle\\anaconda3\\envs\\praktikum_env\\lib\\site-packages (from kiwisolver>=1.0.1->matplotlib->catboost) (4.7.1)\n",
      "Note: you may need to restart the kernel to use updated packages.\n"
     ]
    }
   ],
   "source": [
    "pip install catboost"
   ]
  },
  {
   "cell_type": "code",
   "execution_count": 83,
   "id": "80f9e97d",
   "metadata": {},
   "outputs": [
    {
     "name": "stdout",
     "output_type": "stream",
     "text": [
      "Requirement already satisfied: optuna in c:\\users\\houle\\anaconda3\\envs\\praktikum_env\\lib\\site-packages (3.3.0)\n",
      "Requirement already satisfied: alembic>=1.5.0 in c:\\users\\houle\\anaconda3\\envs\\praktikum_env\\lib\\site-packages (from optuna) (1.11.2)\n",
      "Requirement already satisfied: cmaes>=0.10.0 in c:\\users\\houle\\anaconda3\\envs\\praktikum_env\\lib\\site-packages (from optuna) (0.10.0)\n",
      "Requirement already satisfied: colorlog in c:\\users\\houle\\anaconda3\\envs\\praktikum_env\\lib\\site-packages (from optuna) (6.7.0)\n",
      "Requirement already satisfied: numpy in c:\\users\\houle\\anaconda3\\envs\\praktikum_env\\lib\\site-packages (from optuna) (1.18.3)\n",
      "Requirement already satisfied: packaging>=20.0 in c:\\users\\houle\\anaconda3\\envs\\praktikum_env\\lib\\site-packages (from optuna) (23.1)\n",
      "Requirement already satisfied: sqlalchemy>=1.3.0 in c:\\users\\houle\\anaconda3\\envs\\praktikum_env\\lib\\site-packages (from optuna) (1.3.11)\n",
      "Requirement already satisfied: tqdm in c:\\users\\houle\\anaconda3\\envs\\praktikum_env\\lib\\site-packages (from optuna) (4.66.1)\n",
      "Requirement already satisfied: PyYAML in c:\\users\\houle\\anaconda3\\envs\\praktikum_env\\lib\\site-packages (from optuna) (6.0.1)\n",
      "Requirement already satisfied: Mako in c:\\users\\houle\\anaconda3\\envs\\praktikum_env\\lib\\site-packages (from alembic>=1.5.0->optuna) (1.2.4)\n",
      "Requirement already satisfied: typing-extensions>=4 in c:\\users\\houle\\anaconda3\\envs\\praktikum_env\\lib\\site-packages (from alembic>=1.5.0->optuna) (4.7.1)\n",
      "Requirement already satisfied: importlib-metadata in c:\\users\\houle\\anaconda3\\envs\\praktikum_env\\lib\\site-packages (from alembic>=1.5.0->optuna) (4.11.4)\n",
      "Requirement already satisfied: importlib-resources in c:\\users\\houle\\anaconda3\\envs\\praktikum_env\\lib\\site-packages (from alembic>=1.5.0->optuna) (6.0.0)\n",
      "Requirement already satisfied: colorama in c:\\users\\houle\\anaconda3\\envs\\praktikum_env\\lib\\site-packages (from colorlog->optuna) (0.4.6)\n",
      "Requirement already satisfied: zipp>=0.5 in c:\\users\\houle\\anaconda3\\envs\\praktikum_env\\lib\\site-packages (from importlib-metadata->alembic>=1.5.0->optuna) (3.15.0)\n",
      "Requirement already satisfied: MarkupSafe>=0.9.2 in c:\\users\\houle\\anaconda3\\envs\\praktikum_env\\lib\\site-packages (from Mako->alembic>=1.5.0->optuna) (2.0.1)\n",
      "Note: you may need to restart the kernel to use updated packages.\n"
     ]
    }
   ],
   "source": [
    "pip install optuna"
   ]
  },
  {
   "cell_type": "code",
   "execution_count": 84,
   "id": "7b0117b5",
   "metadata": {},
   "outputs": [
    {
     "name": "stdout",
     "output_type": "stream",
     "text": [
      "Requirement already satisfied: feature_engine in c:\\users\\houle\\anaconda3\\envs\\praktikum_env\\lib\\site-packages (1.4.0)\n",
      "Requirement already satisfied: numpy>=1.18.2 in c:\\users\\houle\\anaconda3\\envs\\praktikum_env\\lib\\site-packages (from feature_engine) (1.18.3)\n",
      "Requirement already satisfied: pandas>=1.0.3 in c:\\users\\houle\\anaconda3\\envs\\praktikum_env\\lib\\site-packages (from feature_engine) (1.3.5)\n",
      "Requirement already satisfied: scikit-learn>=1.0.0 in c:\\users\\houle\\anaconda3\\envs\\praktikum_env\\lib\\site-packages (from feature_engine) (1.0.2)\n",
      "Requirement already satisfied: scipy>=1.4.1 in c:\\users\\houle\\anaconda3\\envs\\praktikum_env\\lib\\site-packages (from feature_engine) (1.4.1)\n",
      "Requirement already satisfied: statsmodels>=0.11.1 in c:\\users\\houle\\anaconda3\\envs\\praktikum_env\\lib\\site-packages (from feature_engine) (0.13.5)\n",
      "Requirement already satisfied: python-dateutil>=2.7.3 in c:\\users\\houle\\anaconda3\\envs\\praktikum_env\\lib\\site-packages (from pandas>=1.0.3->feature_engine) (2.8.2)\n",
      "Requirement already satisfied: pytz>=2017.3 in c:\\users\\houle\\anaconda3\\envs\\praktikum_env\\lib\\site-packages (from pandas>=1.0.3->feature_engine) (2023.3)\n",
      "Requirement already satisfied: joblib>=0.11 in c:\\users\\houle\\anaconda3\\envs\\praktikum_env\\lib\\site-packages (from scikit-learn>=1.0.0->feature_engine) (1.3.2)\n",
      "Requirement already satisfied: threadpoolctl>=2.0.0 in c:\\users\\houle\\anaconda3\\envs\\praktikum_env\\lib\\site-packages (from scikit-learn>=1.0.0->feature_engine) (3.1.0)\n",
      "Requirement already satisfied: patsy>=0.5.2 in c:\\users\\houle\\anaconda3\\envs\\praktikum_env\\lib\\site-packages (from statsmodels>=0.11.1->feature_engine) (0.5.3)\n",
      "Requirement already satisfied: packaging>=21.3 in c:\\users\\houle\\anaconda3\\envs\\praktikum_env\\lib\\site-packages (from statsmodels>=0.11.1->feature_engine) (23.1)\n",
      "Requirement already satisfied: six in c:\\users\\houle\\anaconda3\\envs\\praktikum_env\\lib\\site-packages (from patsy>=0.5.2->statsmodels>=0.11.1->feature_engine) (1.16.0)\n",
      "Note: you may need to restart the kernel to use updated packages.\n"
     ]
    }
   ],
   "source": [
    "pip install feature_engine"
   ]
  },
  {
   "cell_type": "code",
   "execution_count": 85,
   "id": "2f645024",
   "metadata": {},
   "outputs": [],
   "source": [
    "from lightgbm import LGBMClassifier\n",
    "from catboost import CatBoostClassifier\n",
    "import optuna"
   ]
  },
  {
   "cell_type": "markdown",
   "id": "915a5d20",
   "metadata": {},
   "source": [
    "<div class=\"alert alert-warning\">\n",
    "<b>Reviewer's comment</b>\n",
    "\n",
    "It's better to install libraries/make imports at the start of the notebook to avoid a situation where you have to redo potentially heavy calculations \n",
    "\n",
    "</div>"
   ]
  },
  {
   "cell_type": "markdown",
   "id": "eb1e132e",
   "metadata": {},
   "source": [
    "### Feature Engineering"
   ]
  },
  {
   "cell_type": "code",
   "execution_count": 86,
   "id": "4babcf1a",
   "metadata": {},
   "outputs": [],
   "source": [
    "# Create column for has_internet as some customers do not\n",
    "has_internet = df_complete['internet_service']\n",
    "df_complete['has_internet'] = has_internet\n",
    "df_complete['has_internet'] = df_complete['has_internet'].where(df_complete['has_internet'] != 'DSL', 1)\n",
    "df_complete['has_internet'] = df_complete['has_internet'].where(df_complete['has_internet'] != 'Fiber optic', 1)\n",
    "df_complete['has_internet'] = df_complete['has_internet'].where(df_complete['has_internet'] != 'No Service', 0)\n",
    "df_complete['has_internet'] = df_complete['has_internet'].astype(int)"
   ]
  },
  {
   "cell_type": "code",
   "execution_count": 87,
   "id": "8b537b73",
   "metadata": {},
   "outputs": [],
   "source": [
    "# Define contract length based on latest begin_date\n",
    "now = df_complete['begin_date'].max()\n",
    "df_complete['end_date'] = df_complete['end_date'].fillna(now)\n",
    "length = ((df_complete['end_date'] - df_complete['begin_date']) / np.timedelta64(1, 'M'))\n",
    "df_complete['tenure'] = length.round()\n",
    "df_complete['tenure'] = df_complete['tenure'].astype(int)"
   ]
  },
  {
   "cell_type": "code",
   "execution_count": 88,
   "id": "06c2d5f0",
   "metadata": {},
   "outputs": [],
   "source": [
    "# Create number of services column\n",
    "df_complete['number_of_services'] = df_complete['online_security'] + df_complete['online_backup'] + df_complete['device_protection'] + df_complete['tech_support'] + df_complete['streaming_tv'] + df_complete['streaming_movies'] + df_complete['has_internet'] + df_complete['multiple_lines'] + df_complete['phone_service']\n",
    "df_complete['number_of_services'] = df_complete['number_of_services'].astype(int)"
   ]
  },
  {
   "cell_type": "code",
   "execution_count": 89,
   "id": "1ccc5212",
   "metadata": {},
   "outputs": [],
   "source": [
    "# Create column of remaining months in contract\n",
    "remaining_months = []\n",
    "\n",
    "for index, row in df_complete.iterrows():\n",
    "    if row['contract_type'] == 'Monthly':\n",
    "        remaining_months.append(0)\n",
    "    elif row['contract_type'] == 'One year':\n",
    "        if row['tenure'] <= 12:\n",
    "            months = 12 - row['tenure']\n",
    "            remaining_months.append(months)\n",
    "        elif row['tenure'] > 12 and row['tenure'] <= 24:\n",
    "            months = 24 - row['tenure']\n",
    "            remaining_months.append(months)\n",
    "        elif row['tenure'] > 24 and row['tenure'] <= 36:\n",
    "            months = 36 - row['tenure']\n",
    "            remaining_months.append(months)\n",
    "        elif row['tenure'] > 36 and row['tenure'] <= 48:\n",
    "            months = 48 - row['tenure']\n",
    "            remaining_months.append(months)\n",
    "        elif row['tenure'] > 48 and row['tenure'] <= 60:\n",
    "            months = 60 - row['tenure']\n",
    "            remaining_months.append(months)\n",
    "        elif row['tenure'] > 60 and row['tenure'] <= 72:\n",
    "            months = 72 - row['tenure']\n",
    "            remaining_months.append(months)\n",
    "    elif row['contract_type'] == 'Two year':\n",
    "        if row['tenure'] <= 24:\n",
    "            months = 24 - row['tenure']\n",
    "            remaining_months.append(months)\n",
    "        elif row['tenure'] > 24 and row['tenure'] <= 48:\n",
    "            months = 48 - row['tenure']\n",
    "            remaining_months.append(months)\n",
    "        elif row['tenure'] > 48 and row['tenure'] <= 72:\n",
    "            months = 72 - row['tenure']\n",
    "            remaining_months.append(months)\n",
    "\n",
    "df_complete['remaining_months'] = remaining_months\n",
    "df_complete['remaining_months'] = df_complete['remaining_months'].astype(int)"
   ]
  },
  {
   "cell_type": "code",
   "execution_count": 90,
   "id": "1c5df298",
   "metadata": {},
   "outputs": [],
   "source": [
    "# Create average charge based on total_charges and tenure\n",
    "df_complete['average_charge'] = (df_complete['total_charges'] / df_complete['tenure']).round(2)\n",
    "median = df_complete['average_charge'].median()\n",
    "df_complete['average_charge'] = df_complete['average_charge'].fillna(median)"
   ]
  },
  {
   "cell_type": "code",
   "execution_count": 91,
   "id": "011c5878",
   "metadata": {},
   "outputs": [],
   "source": [
    "# Calculate additional_charges based on difference between total_charges and monthly_charges times tenure\n",
    "df_complete['additional_charges'] = (df_complete['total_charges'] - (df_complete['monthly_charges'] * df_complete['tenure']))"
   ]
  },
  {
   "cell_type": "code",
   "execution_count": 92,
   "id": "5673e255",
   "metadata": {},
   "outputs": [],
   "source": [
    "# Calculate price per service\n",
    "df_complete['price_per_service'] = (df_complete['monthly_charges'] / df_complete['number_of_services'])"
   ]
  },
  {
   "cell_type": "markdown",
   "id": "14052981",
   "metadata": {},
   "source": [
    "Using existing features, a number of extrapolations were made to create additional measurements beyond what was provided in the data set."
   ]
  },
  {
   "cell_type": "code",
   "execution_count": 93,
   "id": "81e19f2a",
   "metadata": {},
   "outputs": [],
   "source": [
    "# Create a number of variables on mathmatical transformations to aid in model fitting\n",
    "df_complete['variable_a'] = np.sqrt(df_complete['monthly_charges']) * df_complete['number_of_services']\n",
    "df_complete['variable_b'] = np.sqrt(df_complete['tenure']) * df_complete['number_of_services']\n",
    "df_complete['variable_c'] = np.sqrt(df_complete['monthly_charges'] * df_complete['number_of_services'])\n",
    "df_complete['variable_d'] = np.sqrt(df_complete['tenure'] * df_complete['number_of_services'])\n",
    "df_complete['variable_e'] = np.sqrt(df_complete['number_of_services']) / (df_complete['remaining_months'] + 1)\n",
    "df_complete['variable_f'] = np.sqrt(df_complete['monthly_charges']) / (df_complete['has_internet'] + df_complete['phone_service'])\n",
    "df_complete['variable_g'] = df_complete['number_of_services'] / np.sqrt(df_complete['tenure'] + 1)\n",
    "df_complete['variable_h'] = np.sqrt(df_complete['number_of_services']) / df_complete['monthly_charges']\n",
    "df_complete['variable_i'] = df_complete['price_per_service'] * df_complete['tenure']\n"
   ]
  },
  {
   "cell_type": "markdown",
   "id": "647d8721",
   "metadata": {},
   "source": [
    "Beyond the additional columns added previously which hold some degree of information for interpretation at a glance, nine new variables were created using the exiting columns using mathmatic transformation to help improve model performance."
   ]
  },
  {
   "cell_type": "code",
   "execution_count": 94,
   "id": "a15c0512",
   "metadata": {},
   "outputs": [],
   "source": [
    "# Function for replacing outliers using churn/not churn as the delineator, replacing them with appropriate medians\n",
    "def replace_outliers(df, x_column):\n",
    "    df_a = df[df['churned'] == 1]\n",
    "    median_a = df_a[x_column].median()\n",
    "    std_a = df_a[x_column].std()\n",
    "    \n",
    "    df_b = df[df['churned'] == 0]\n",
    "    median_b = df_b[x_column].median()\n",
    "    std_b = df_b[x_column].std()\n",
    "    \n",
    "    for index, row in df.iterrows():\n",
    "        if row['churned'] == 1:\n",
    "            if np.abs(row[x_column] - median_a) > 2 * std_a:\n",
    "                df.at[index, x_column] = median_a\n",
    "    \n",
    "        if row['churned'] == 0:\n",
    "            if np.abs(row[x_column] - median_b) > 2 * std_b:\n",
    "                df.at[index, x_column] = median_b\n",
    "                \n",
    "    return df"
   ]
  },
  {
   "cell_type": "code",
   "execution_count": 95,
   "id": "8e0a845b",
   "metadata": {},
   "outputs": [],
   "source": [
    "# Remove outliers with the function\n",
    "df_complete = replace_outliers(df_complete, 'monthly_charges')\n",
    "df_complete = replace_outliers(df_complete, 'total_charges')\n",
    "df_complete = replace_outliers(df_complete, 'average_charge')\n",
    "df_complete = replace_outliers(df_complete, 'additional_charges')\n",
    "df_complete = replace_outliers(df_complete, 'price_per_service')\n",
    "df_complete = replace_outliers(df_complete, 'variable_a')\n",
    "df_complete = replace_outliers(df_complete, 'variable_b')\n",
    "df_complete = replace_outliers(df_complete, 'variable_c')\n",
    "df_complete = replace_outliers(df_complete, 'variable_d')\n",
    "df_complete = replace_outliers(df_complete, 'variable_e')\n",
    "df_complete = replace_outliers(df_complete, 'variable_f')\n",
    "df_complete = replace_outliers(df_complete, 'variable_g')\n",
    "df_complete = replace_outliers(df_complete, 'variable_h')\n",
    "\n",
    "# Second outlier regularization on variable h increases performance\n",
    "df_complete = replace_outliers(df_complete, 'variable_h')"
   ]
  },
  {
   "cell_type": "markdown",
   "id": "c86c6dec",
   "metadata": {},
   "source": [
    "A function was created and used to remove outliers, replacing them with median values for the columns. They were delineated by churned or not churned values - applying a blind dataset, or one without churn values known to predict, would still work using the median values for each group generated by this known dataset.\n",
    "\n",
    "Through testing, it was found that running the `variable_h` column through the `replace_outlier` function increased performance, so it remained as such for model fitting and testing."
   ]
  },
  {
   "cell_type": "code",
   "execution_count": 96,
   "id": "ab8b8ac8",
   "metadata": {
    "scrolled": true
   },
   "outputs": [],
   "source": [
    "# Drop unused columns and OHE\n",
    "data = df_complete.drop(['customer_id', 'begin_date', 'end_date', 'contract_duration_months'], axis=1)\n",
    "data_ohe = pd.get_dummies(data, drop_first=True)"
   ]
  },
  {
   "cell_type": "markdown",
   "id": "7dcf0b2b",
   "metadata": {},
   "source": [
    "<div class=\"alert alert-success\">\n",
    "<b>Reviewer's comment</b>\n",
    "\n",
    "Good job on feature engineering!\n",
    "\n",
    "</div>"
   ]
  },
  {
   "cell_type": "markdown",
   "id": "e36f8934",
   "metadata": {},
   "source": [
    "### Train/Test Split"
   ]
  },
  {
   "cell_type": "code",
   "execution_count": 97,
   "id": "2b791c16",
   "metadata": {},
   "outputs": [],
   "source": [
    "train, valid = train_test_split(data_ohe, test_size=0.2, random_state=42, stratify=data_ohe['churned'])\n",
    "train, test = train_test_split(train, test_size=0.25, random_state=42, stratify=train['churned'])"
   ]
  },
  {
   "cell_type": "markdown",
   "id": "c48d8707",
   "metadata": {},
   "source": [
    "The provided data has been split into training, validation, and testing data at a 3:1:1 ratio."
   ]
  },
  {
   "cell_type": "markdown",
   "id": "2f3817bf",
   "metadata": {},
   "source": [
    "<div class=\"alert alert-success\">\n",
    "<b>Reviewer's comment</b>\n",
    "\n",
    "The data split is reasonable\n",
    "\n",
    "</div>"
   ]
  },
  {
   "cell_type": "markdown",
   "id": "fbfc5257",
   "metadata": {},
   "source": [
    "#### Verify distribution"
   ]
  },
  {
   "cell_type": "code",
   "execution_count": 98,
   "id": "639814fa",
   "metadata": {},
   "outputs": [
    {
     "data": {
      "text/plain": [
       "0    3104\n",
       "1    1121\n",
       "Name: churned, dtype: int64"
      ]
     },
     "metadata": {},
     "output_type": "display_data"
    },
    {
     "data": {
      "text/plain": [
       "0    1035\n",
       "1     374\n",
       "Name: churned, dtype: int64"
      ]
     },
     "metadata": {},
     "output_type": "display_data"
    },
    {
     "data": {
      "text/plain": [
       "0    1035\n",
       "1     374\n",
       "Name: churned, dtype: int64"
      ]
     },
     "metadata": {},
     "output_type": "display_data"
    }
   ],
   "source": [
    "display(train['churned'].value_counts())\n",
    "display(valid['churned'].value_counts())\n",
    "display(test['churned'].value_counts())"
   ]
  },
  {
   "cell_type": "code",
   "execution_count": 99,
   "id": "52188cff",
   "metadata": {},
   "outputs": [
    {
     "data": {
      "text/plain": [
       "0.36114690721649484"
      ]
     },
     "metadata": {},
     "output_type": "display_data"
    },
    {
     "data": {
      "text/plain": [
       "0.36135265700483093"
      ]
     },
     "metadata": {},
     "output_type": "display_data"
    }
   ],
   "source": [
    "display(1121/3104)\n",
    "display(374/1035)"
   ]
  },
  {
   "cell_type": "markdown",
   "id": "bfef3a6a",
   "metadata": {},
   "source": [
    "The training, validation, and test sets are approximately 36% churned customers in each of the datasets."
   ]
  },
  {
   "cell_type": "markdown",
   "id": "e37f29e5",
   "metadata": {},
   "source": [
    "<div class=\"alert alert-success\">\n",
    "<b>Reviewer's comment</b>\n",
    "\n",
    "Good!\n",
    "\n",
    "</div>"
   ]
  },
  {
   "cell_type": "markdown",
   "id": "93ac8b42",
   "metadata": {},
   "source": [
    "#### Define Features and Target"
   ]
  },
  {
   "cell_type": "code",
   "execution_count": 100,
   "id": "a9988ec8",
   "metadata": {},
   "outputs": [],
   "source": [
    "features_train = train.drop('churned', axis=1)\n",
    "target_train = train['churned']\n",
    "features_valid = valid.drop('churned', axis=1)\n",
    "target_valid = valid['churned']\n",
    "features_test = test.drop('churned', axis=1)\n",
    "target_test = test['churned']"
   ]
  },
  {
   "cell_type": "markdown",
   "id": "dbea9e59",
   "metadata": {},
   "source": [
    "`churned` columns has been set to be the target for the models as this is the value that we are seeking to determine, or predict through the use of the models."
   ]
  },
  {
   "cell_type": "markdown",
   "id": "5dc0b749",
   "metadata": {},
   "source": [
    "#### Scale numerical columns"
   ]
  },
  {
   "cell_type": "code",
   "execution_count": 101,
   "id": "1462ba0d",
   "metadata": {},
   "outputs": [],
   "source": [
    "# Scale numerical data\n",
    "numeric = ['monthly_charges','total_charges', 'tenure', 'number_of_services', 'remaining_months', 'average_charge', 'additional_charges', 'variable_a', 'variable_b', 'variable_c', 'variable_d', 'variable_e', 'variable_f', 'variable_g', 'variable_h', 'variable_i']\n",
    "# 'charges_difference', , 'number_of_services'\n",
    "scaler = StandardScaler()\n",
    "scaler.fit(features_train[numeric]) \n",
    "features_train[numeric] = scaler.transform(features_train[numeric])\n",
    "features_valid[numeric] = scaler.transform(features_valid[numeric])\n",
    "features_test[numeric] = scaler.transform(features_test[numeric])"
   ]
  },
  {
   "cell_type": "markdown",
   "id": "6e955c95",
   "metadata": {},
   "source": [
    "Numerical data has been scaled/normaalized in order to improve performance in model training/assessment."
   ]
  },
  {
   "cell_type": "markdown",
   "id": "d76771bb",
   "metadata": {},
   "source": [
    "<div class=\"alert alert-success\">\n",
    "<b>Reviewer's comment</b>\n",
    "\n",
    "Scaling was applied correctly\n",
    "\n",
    "</div>"
   ]
  },
  {
   "cell_type": "markdown",
   "id": "cabaa121",
   "metadata": {},
   "source": [
    "### Train Models"
   ]
  },
  {
   "cell_type": "markdown",
   "id": "a8280bcd",
   "metadata": {},
   "source": [
    "#### Logistic Regression"
   ]
  },
  {
   "cell_type": "code",
   "execution_count": 102,
   "id": "141559fd",
   "metadata": {
    "scrolled": true
   },
   "outputs": [
    {
     "name": "stderr",
     "output_type": "stream",
     "text": [
      "C:\\Users\\houle\\anaconda3\\envs\\praktikum_env\\lib\\site-packages\\sklearn\\linear_model\\_logistic.py:818: ConvergenceWarning: lbfgs failed to converge (status=1):\n",
      "STOP: TOTAL NO. of ITERATIONS REACHED LIMIT.\n",
      "\n",
      "Increase the number of iterations (max_iter) or scale the data as shown in:\n",
      "    https://scikit-learn.org/stable/modules/preprocessing.html\n",
      "Please also refer to the documentation for alternative solver options:\n",
      "    https://scikit-learn.org/stable/modules/linear_model.html#logistic-regression\n",
      "  extra_warning_msg=_LOGISTIC_SOLVER_CONVERGENCE_MSG,\n"
     ]
    }
   ],
   "source": [
    "lr_model = LogisticRegression()\n",
    "lr_model.fit(features_train, target_train)\n",
    "#scores = cross_val_score(lr_model, features_train, target_train, cv=8, scoring='roc_auc')\n",
    "#lr_train_score = sum(scores) / len(scores)\n",
    "lr_val_predict = lr_model.predict(features_valid)\n",
    "lr_valid_score = roc_auc_score(target_valid, lr_val_predict)"
   ]
  },
  {
   "cell_type": "code",
   "execution_count": 103,
   "id": "e617500a",
   "metadata": {},
   "outputs": [],
   "source": [
    "lr_predictions_test = lr_model.predict(features_test)\n",
    "\n",
    "lr_test_score = roc_auc_score(target_test, lr_predictions_test)"
   ]
  },
  {
   "cell_type": "markdown",
   "id": "9a0c8f1d",
   "metadata": {},
   "source": [
    "<div class=\"alert alert-warning\">\n",
    "<b>Reviewer's comment</b>\n",
    "\n",
    "There is a problem with ROC-AUC calculation throughout the project: to get the true ROC-AUC value we need to use probabilities (method `predict_proba`), not binary predictions (method `predict`). The reason is that the ROC curve is constructed by varying the threshold of assigning the positive class between 0 and 1, and for binary predictions the threshold is predefined\n",
    "\n",
    "</div>"
   ]
  },
  {
   "cell_type": "code",
   "execution_count": 104,
   "id": "327d2fc9",
   "metadata": {},
   "outputs": [
    {
     "data": {
      "text/plain": [
       "'Logistic Regression Validation ROC-AUC:'"
      ]
     },
     "metadata": {},
     "output_type": "display_data"
    },
    {
     "data": {
      "text/plain": [
       "0.8561536076881345"
      ]
     },
     "metadata": {},
     "output_type": "display_data"
    },
    {
     "data": {
      "text/plain": [
       "'Logistic Regression Test ROC-AUC:'"
      ]
     },
     "metadata": {},
     "output_type": "display_data"
    },
    {
     "data": {
      "text/plain": [
       "0.8389198894313984"
      ]
     },
     "metadata": {},
     "output_type": "display_data"
    }
   ],
   "source": [
    "#display(\"Logistic Regression Training ROC-AUC:\", lr_train_score)\n",
    "display(\"Logistic Regression Validation ROC-AUC:\", lr_valid_score)\n",
    "display(\"Logistic Regression Test ROC-AUC:\", lr_test_score)"
   ]
  },
  {
   "cell_type": "markdown",
   "id": "5b9c765c",
   "metadata": {},
   "source": [
    "The Logistic Regression model is the most simple of those we will train, and it will act like a baseline for the performance of the models trained below.\n",
    "\n",
    "Our baseline is set with a Validation dataset ROC-AUC score of 0.856, and a Test dataset ROC-AUC score of 0.838 which repersent a moderately high level of accuracy and precision with the Logistic Regression model, however, models using more complex algorithms should perform better."
   ]
  },
  {
   "cell_type": "markdown",
   "id": "4be134bf",
   "metadata": {},
   "source": [
    "#### Decision Tree Classifier"
   ]
  },
  {
   "cell_type": "code",
   "execution_count": 105,
   "id": "4663b04a",
   "metadata": {},
   "outputs": [],
   "source": [
    "### Tuning Hyperparameters\n",
    "\n",
    "dtc_model = None\n",
    "dtc_val_score = 0\n",
    "dtc_best_depth = 0\n",
    "\n",
    "for depth in range(1, 51):\n",
    "    model = DecisionTreeClassifier(random_state=759638, max_depth=depth)\n",
    "    model.fit(features_train, target_train)\n",
    "    #scores = cross_val_score(model, features_train, target_train, cv=8, scoring='roc_auc')\n",
    "    #result = sum(scores) / len(scores)\n",
    "    dtc_val_predict = model.predict(features_valid)\n",
    "    result = roc_auc_score(target_valid, dtc_val_predict)\n",
    "    if result > dtc_val_score:\n",
    "        dtc_model = model\n",
    "        dtc_val_score = result\n",
    "        dtc_best_depth = depth"
   ]
  },
  {
   "cell_type": "code",
   "execution_count": 106,
   "id": "e07d2c7b",
   "metadata": {},
   "outputs": [],
   "source": [
    "#dtc_model = DecisionTreeClassifier(random_state=759638, max_depth=5)\n",
    "#dtc_model.fit(features_train, target_train)\n",
    "#scores = cross_val_score(dtc_model, features_train, target_train, cv=8, scoring='roc_auc')\n",
    "#dtc_train_score = sum(scores) / len(scores)"
   ]
  },
  {
   "cell_type": "code",
   "execution_count": 107,
   "id": "dba326ba",
   "metadata": {},
   "outputs": [],
   "source": [
    "dtc_predictions_test = dtc_model.predict(features_test)\n",
    "\n",
    "dtc_test_score = roc_auc_score(target_test, dtc_predictions_test)"
   ]
  },
  {
   "cell_type": "code",
   "execution_count": 108,
   "id": "173fa18d",
   "metadata": {
    "scrolled": true
   },
   "outputs": [
    {
     "data": {
      "text/plain": [
       "'Decission Tree Classifier Depth:'"
      ]
     },
     "metadata": {},
     "output_type": "display_data"
    },
    {
     "data": {
      "text/plain": [
       "15"
      ]
     },
     "metadata": {},
     "output_type": "display_data"
    },
    {
     "data": {
      "text/plain": [
       "'Decission Tree Classifier Validation ROC-AUC:'"
      ]
     },
     "metadata": {},
     "output_type": "display_data"
    },
    {
     "data": {
      "text/plain": [
       "0.8845203957735928"
      ]
     },
     "metadata": {},
     "output_type": "display_data"
    },
    {
     "data": {
      "text/plain": [
       "'Decission Tree Classifier Test ROC-AUC:'"
      ]
     },
     "metadata": {},
     "output_type": "display_data"
    },
    {
     "data": {
      "text/plain": [
       "0.8849246945154874"
      ]
     },
     "metadata": {},
     "output_type": "display_data"
    }
   ],
   "source": [
    "display(\"Decission Tree Classifier Depth:\", dtc_best_depth)\n",
    "display(\"Decission Tree Classifier Validation ROC-AUC:\", dtc_val_score)\n",
    "display(\"Decission Tree Classifier Test ROC-AUC:\", dtc_test_score)"
   ]
  },
  {
   "cell_type": "markdown",
   "id": "25557098",
   "metadata": {},
   "source": [
    "With a depth of 15, the Validation dataset ROC-AUC score is 0.885, and the Test dataset ROC-AUC score is also 0.885 indicating there wasn't overfitting that occured as two seperate datasets performed equally well. Being that the Decision Tree Classifier scored 3-5 points (1 point being 0.01) better, and having reached the threshold for aa high performing model, this is a good improvement on the previously created Logistic Regression model."
   ]
  },
  {
   "cell_type": "markdown",
   "id": "2f6f8f52",
   "metadata": {},
   "source": [
    "#### Random Forest Classifier"
   ]
  },
  {
   "cell_type": "code",
   "execution_count": 109,
   "id": "c4da46c3",
   "metadata": {
    "scrolled": true
   },
   "outputs": [],
   "source": [
    "### Tuning Hyperparameters\n",
    "\n",
    "rfc_model = None\n",
    "rfc_val_score = 0\n",
    "rfc_best_est = 0\n",
    "\n",
    "for est in range(35, 51):\n",
    "    model = RandomForestClassifier(random_state=759638, n_estimators=est)\n",
    "    model.fit(features_train, target_train)\n",
    "    #scores = cross_val_score(model, features_train, target_train, cv=8, scoring='roc_auc')\n",
    "    #result = sum(scores) / len(scores)\n",
    "    rcf_val_predict = model.predict(features_valid)\n",
    "    result = roc_auc_score(target_valid, rcf_val_predict)\n",
    "    if result > rfc_val_score:\n",
    "        rfc_val_score = result\n",
    "        rfc_best_est = est\n",
    "        rfc_model = model"
   ]
  },
  {
   "cell_type": "code",
   "execution_count": 110,
   "id": "695f66d6",
   "metadata": {},
   "outputs": [],
   "source": [
    "#rfc_model = RandomForestClassifier(random_state=759638, n_estimators=198)\n",
    "#rfc_model.fit(features_train, target_train)\n",
    "#scores = cross_val_score(rfc_model, features_train, target_train, cv=8, scoring='roc_auc')\n",
    "#rfc_train_score = sum(scores) / len(scores)"
   ]
  },
  {
   "cell_type": "code",
   "execution_count": 111,
   "id": "f61fb929",
   "metadata": {},
   "outputs": [],
   "source": [
    "rfc_predictions_test = rfc_model.predict(features_test)\n",
    "\n",
    "rfc_test_score = roc_auc_score(target_test, rfc_predictions_test)"
   ]
  },
  {
   "cell_type": "code",
   "execution_count": 112,
   "id": "e6293e28",
   "metadata": {},
   "outputs": [
    {
     "data": {
      "text/plain": [
       "'Random Forest Classifier Trees:'"
      ]
     },
     "metadata": {},
     "output_type": "display_data"
    },
    {
     "data": {
      "text/plain": [
       "43"
      ]
     },
     "metadata": {},
     "output_type": "display_data"
    },
    {
     "data": {
      "text/plain": [
       "'Random Forest Classifier Validation ROC-AUC:'"
      ]
     },
     "metadata": {},
     "output_type": "display_data"
    },
    {
     "data": {
      "text/plain": [
       "0.874128755586556"
      ]
     },
     "metadata": {},
     "output_type": "display_data"
    },
    {
     "data": {
      "text/plain": [
       "'Random Forest Classifier Test ROC-AUC:'"
      ]
     },
     "metadata": {},
     "output_type": "display_data"
    },
    {
     "data": {
      "text/plain": [
       "0.8724547262910434"
      ]
     },
     "metadata": {},
     "output_type": "display_data"
    }
   ],
   "source": [
    "display(\"Random Forest Classifier Trees:\", rfc_best_est)\n",
    "display(\"Random Forest Classifier Validation ROC-AUC:\", rfc_val_score)\n",
    "display(\"Random Forest Classifier Test ROC-AUC:\", rfc_test_score)"
   ]
  },
  {
   "cell_type": "markdown",
   "id": "59ce8706",
   "metadata": {},
   "source": [
    "The Random Forest Classifier having a depth of 43, with a Validation data ROC-AUC of 0.874 and a Test data ROC-AUC score of 0.872 performed better than the Logistic Regression model, but a point worse than the Decision Tree model."
   ]
  },
  {
   "cell_type": "markdown",
   "id": "eafa90fb",
   "metadata": {},
   "source": [
    "#### LightGMB Gradiant Boosted Decision Tree Classifier"
   ]
  },
  {
   "cell_type": "code",
   "execution_count": 113,
   "id": "868f64f4",
   "metadata": {
    "scrolled": true
   },
   "outputs": [],
   "source": [
    "### Tuning Hyperparameters before Optuna used\n",
    "\n",
    "#bdtc_model = None\n",
    "#bdtc_val_score = 0\n",
    "\n",
    "#for learn in range (4, 15):\n",
    "#    rate = learn/20\n",
    "#    for leaves in range (2, 11):\n",
    "#        for est in range(1, 51):\n",
    "#            for fraction in range(5,16):\n",
    "#                frac = fraction/20\n",
    "#                model = LGBMClassifier(boosting_type='gbdt', \n",
    "#                                       num_leaves=leaves, \n",
    "#                                       max_depth=500, \n",
    "#                                       learning_rate=rate, \n",
    "#                                       n_estimators=est, \n",
    "#                                       objective='binary',\n",
    "#                                      )\n",
    "#                model.fit(features_train, target_train)\n",
    "                #scores = cross_val_score(model, features_train, target_train, cv=8, scoring='roc_auc')\n",
    "                #result = sum(scores) / len(scores)\n",
    "#                bdtc_val_predict = model.predict(features_valid)\n",
    "#                result = roc_auc_score(target_valid, bdtc_val_predict)\n",
    "#                if result > bdtc_val_score:\n",
    "#                    bdtc_val_score = result\n",
    "#                    bdtc_est = est\n",
    "#                    bdtc_learning_rate = rate\n",
    "#                    bdtc_model = model\n",
    "#                    bdtc_leaves = leaves\n",
    "#                    bdtc_frac = frac"
   ]
  },
  {
   "cell_type": "code",
   "execution_count": 114,
   "id": "b23de22a",
   "metadata": {
    "scrolled": true
   },
   "outputs": [],
   "source": [
    "### Tuning hyperparameters using Optuna\n",
    "\n",
    "#def bdtc(trial):\n",
    "#    learn = trial.suggest_float('learn', 0.01, 1.0, step=0.01)\n",
    "#    leaves = trial.suggest_int('leaves', 2, 100)\n",
    "#    est = trial.suggest_int('est', 1, 500)\n",
    "#    fraction = trial.suggest_float('fraction', 0.1, 1.0, step=0.1)\n",
    "#    \n",
    "#    model = LGBMClassifier(\n",
    "#        boosting_type='gbdt', \n",
    "#        num_leaves=leaves, \n",
    "#        max_depth=500, \n",
    "#        learning_rate=learn, \n",
    "#        n_estimators=est, \n",
    "#        subsample=fraction,\n",
    "#        objective='binary'\n",
    "#    )\n",
    "#    model.fit(features_train, target_train)\n",
    "#    \n",
    "#    bdtc_val_predict = model.predict(features_valid)\n",
    "#    result = roc_auc_score(target_valid, bdtc_val_predict)\n",
    "#    \n",
    "#    return result\n",
    "\n",
    "#study = optuna.create_study(direction='maximize')\n",
    "#study.optimize(bdtc, n_trials=1000)\n",
    "\n",
    "#best_params = study.best_params\n",
    "#bdtc_model = LGBMClassifier(\n",
    "#    boosting_type='gbdt', \n",
    "#    num_leaves=best_params['leaves'], \n",
    "#    max_depth=500, \n",
    "#    learning_rate=best_params['learn'], \n",
    "#    n_estimators=best_params['est'], \n",
    "#    subsample=best_params['fraction'],\n",
    "#    objective='binary'\n",
    "#)\n",
    "\n",
    "#bdtc_model.fit(features_train, target_train)"
   ]
  },
  {
   "cell_type": "code",
   "execution_count": 115,
   "id": "351410d0",
   "metadata": {},
   "outputs": [],
   "source": [
    "#bdtc_model = LGBMClassifier(boosting_type='gbdt', \n",
    "#                            num_leaves=2, \n",
    "#                            max_depth=500, \n",
    "#                            learning_rate=0.3, \n",
    "#                            n_estimators=145, \n",
    "#                            objective='binary',\n",
    "#                            is_unbalanced=True,\n",
    "#                            feature_fraction=frac\n",
    "#                           )\n",
    "#bdtc_model.fit(features_train, target_train)\n",
    "#scores = cross_val_score(bdtc_model, features_train, target_train, cv=8, scoring='roc_auc')\n",
    "#bdtc_train_score = sum(scores) / len(scores)"
   ]
  },
  {
   "cell_type": "code",
   "execution_count": 116,
   "id": "1f2f6b86",
   "metadata": {},
   "outputs": [
    {
     "name": "stdout",
     "output_type": "stream",
     "text": [
      "[LightGBM] [Warning] Found whitespace in feature_names, replace with underlines\n",
      "[LightGBM] [Info] Number of positive: 1121, number of negative: 3104\n",
      "[LightGBM] [Warning] Auto-choosing row-wise multi-threading, the overhead of testing was 0.000316 seconds.\n",
      "You can set `force_row_wise=true` to remove the overhead.\n",
      "And if memory is not enough, you can set `force_col_wise=true`.\n",
      "[LightGBM] [Info] Total Bins 3549\n",
      "[LightGBM] [Info] Number of data points in the train set: 4225, number of used features: 38\n",
      "[LightGBM] [Info] [binary:BoostFromScore]: pavg=0.265325 -> initscore=-1.018470\n",
      "[LightGBM] [Info] Start training from score -1.018470\n"
     ]
    },
    {
     "data": {
      "text/plain": [
       "LGBMClassifier(learning_rate=0.51, max_depth=500, n_estimators=256,\n",
       "               num_leaves=2, objective='binary', subsample=0.4)"
      ]
     },
     "execution_count": 116,
     "metadata": {},
     "output_type": "execute_result"
    }
   ],
   "source": [
    "bdtc_model = LGBMClassifier(boosting_type='gbdt', \n",
    "                            num_leaves=2, \n",
    "                            max_depth=500, \n",
    "                            learning_rate=0.51, \n",
    "                            n_estimators=256, \n",
    "                            subsample=0.4,\n",
    "                            objective='binary'\n",
    "                           )\n",
    "bdtc_model.fit(features_train, target_train)"
   ]
  },
  {
   "cell_type": "code",
   "execution_count": 117,
   "id": "3477f33d",
   "metadata": {},
   "outputs": [],
   "source": [
    "bdtc_predictions_val = bdtc_model.predict(features_valid)\n",
    "\n",
    "bdtc_val_score = roc_auc_score(target_valid, bdtc_predictions_val)"
   ]
  },
  {
   "cell_type": "code",
   "execution_count": 118,
   "id": "c460183c",
   "metadata": {},
   "outputs": [],
   "source": [
    "bdtc_predictions_test = bdtc_model.predict(features_test)\n",
    "\n",
    "bdtc_test_score = roc_auc_score(target_test, bdtc_predictions_test)"
   ]
  },
  {
   "cell_type": "code",
   "execution_count": 119,
   "id": "4367f61e",
   "metadata": {
    "scrolled": true
   },
   "outputs": [
    {
     "data": {
      "text/plain": [
       "'Gradiant Boosted Decission Tree Classifier Validation ROC-AUC:'"
      ]
     },
     "metadata": {},
     "output_type": "display_data"
    },
    {
     "data": {
      "text/plain": [
       "0.8949236611640704"
      ]
     },
     "metadata": {},
     "output_type": "display_data"
    },
    {
     "data": {
      "text/plain": [
       "'Gradiant Boosted Decission Tree Classifier Test ROC-AUC:'"
      ]
     },
     "metadata": {},
     "output_type": "display_data"
    },
    {
     "data": {
      "text/plain": [
       "0.8936203466894005"
      ]
     },
     "metadata": {},
     "output_type": "display_data"
    }
   ],
   "source": [
    "#display(\"Gradiant Boosted Decission Tree Classifier Tree feature_fraction:\", bdtc_frac)\n",
    "#display(\"Gradiant Boosted Decission Tree Classifier Tree estimators:\", bdtc_est)\n",
    "#display(\"Gradiant Boosted Decission Tree Classifier Tree leaves:\", bdtc_leaves)\n",
    "#display(\"Gradiant Boosted Decission Tree Classifier Tree learning rate:\", bdtc_learning_rate)\n",
    "\n",
    "display(\"Gradiant Boosted Decission Tree Classifier Validation ROC-AUC:\", bdtc_val_score)\n",
    "display(\"Gradiant Boosted Decission Tree Classifier Test ROC-AUC:\", bdtc_test_score)"
   ]
  },
  {
   "cell_type": "markdown",
   "id": "e14b57d1",
   "metadata": {},
   "source": [
    "Performing better than the previous three models, as predicted, the Gradiant Boosted Decision Tree model showed some improvement on the prediction task. The Validation data ROC-AUC score is 0.895 and the Test data ROC-AUC score is 0.894, which shows a high degree of accuracy and precission in the prediction of churned customers."
   ]
  },
  {
   "cell_type": "markdown",
   "id": "2aeea75e",
   "metadata": {},
   "source": [
    "#### LightGMB Gradiant Boosted DART Classifier"
   ]
  },
  {
   "cell_type": "code",
   "execution_count": 120,
   "id": "e31cd6cd",
   "metadata": {
    "scrolled": true
   },
   "outputs": [],
   "source": [
    "### Tuning Hyperparameters before Optuna used\n",
    "\n",
    "#dart_model = None\n",
    "#dart_val_score = 0\n",
    "\n",
    "#for learn in range (8, 13):\n",
    "#    rate = learn/20\n",
    "#    for leaves in range (2, 6):\n",
    "#        for est in range (140, 251, 5):\n",
    "#            for fraction in range(5,16):\n",
    "#                frac = fraction/20\n",
    "#                model = LGBMClassifier(boosting_type='dart', \n",
    "#                                       num_leaves=leaves, \n",
    "#                                       max_depth=500, \n",
    "#                                       learning_rate=rate, \n",
    "#                                       n_estimators=est, \n",
    "#                                       objective='binary',\n",
    "#                                       feature_fraction=frac\n",
    "#                                      )\n",
    "#                model.fit(features_train, target_train)\n",
    "#                dart_val_predict = model.predict(features_valid)\n",
    "#                result = roc_auc_score(target_valid, dart_val_predict)\n",
    "                #scores = cross_val_score(model, features_train, target_train, cv=8, scoring='roc_auc')\n",
    "                #result = sum(scores) / len(scores)\n",
    "#                if result > dart_val_score:\n",
    "#                    dart_val_score = result\n",
    "#                    dart_leaves = leaves\n",
    "#                    dart_learning_rate = rate\n",
    "#                    dart_model = model\n",
    "#                    dart_est = est\n",
    "#                    dart_frac = frac"
   ]
  },
  {
   "cell_type": "code",
   "execution_count": 121,
   "id": "540fe533",
   "metadata": {},
   "outputs": [],
   "source": [
    "### Tuning hyperparameters using Optuna\n",
    "\n",
    "#def dart(trial):\n",
    "#    learn = trial.suggest_float('learning_rate', 0.01, 1.0, step=0.01)\n",
    "#    leaves = trial.suggest_int('num_leaves', 2, 50)\n",
    "#    est = trial.suggest_int('n_estimators', 50, 300, step=10)\n",
    "#    fraction = trial.suggest_float('feature_fraction', 0.1, 1.0, step=0.05)\n",
    "#    \n",
    "#    model = LGBMClassifier(\n",
    "#        boosting_type='dart',\n",
    "#        num_leaves=leaves,\n",
    "#        max_depth=500,\n",
    "#        learning_rate=learn,\n",
    "#        n_estimators=est,\n",
    "#        objective='binary',\n",
    "#        feature_fraction=fraction\n",
    "#    )\n",
    "#    \n",
    "#    model.fit(features_train, target_train)\n",
    "#    dart_val_predict = model.predict(features_valid)\n",
    "#    result = roc_auc_score(target_valid, dart_val_predict)\n",
    "#\n",
    "#    return result\n",
    "\n",
    "#study = optuna.create_study(direction='maximize')\n",
    "#study.optimize(dart, n_trials=1000)\n",
    "\n",
    "#best_params = study.best_params\n",
    "#dart_learning_rate = best_params['learning_rate']\n",
    "#dart_leaves = best_params['num_leaves']\n",
    "#dart_est = best_params['n_estimators']\n",
    "#dart_frac = best_params['feature_fraction']\n",
    "\n",
    "#dart_model = LGBMClassifier(\n",
    "#    boosting_type='dart',\n",
    "#    num_leaves=dart_leaves,\n",
    "#    max_depth=500,\n",
    "#    learning_rate=dart_learning_rate,\n",
    "#    n_estimators=dart_est,\n",
    "#    objective='binary',\n",
    "#    feature_fraction=dart_frac\n",
    "#)\n",
    "\n",
    "#dart_model.fit(features_train, target_train)"
   ]
  },
  {
   "cell_type": "code",
   "execution_count": 122,
   "id": "60099260",
   "metadata": {},
   "outputs": [],
   "source": [
    "#dart_model = LGBMClassifier(boosting_type='dart', \n",
    "#                            num_leaves=2, \n",
    "#                            max_depth=500, \n",
    "#                            learning_rate=0.5, \n",
    "#                            n_estimators=133, \n",
    "#                            objective='binary',\n",
    "#                            is_unbalanced=True,\n",
    "#                            feature_fraction=frac\n",
    "#                           )\n",
    "#dart_model.fit(features_train, target_train)\n",
    "#scores = cross_val_score(dart_model, features_train, target_train, cv=8, scoring='roc_auc')\n",
    "#dart_val_predict = model.predict(features_valid)\n",
    "#dart_val_score = roc_auc_score(target_valid, dart_val_predict)\n",
    "#dart_train_score = sum(scores) / len(scores)"
   ]
  },
  {
   "cell_type": "code",
   "execution_count": 123,
   "id": "ad1fd214",
   "metadata": {},
   "outputs": [
    {
     "name": "stdout",
     "output_type": "stream",
     "text": [
      "[LightGBM] [Warning] Unknown parameter: is_unbalanced\n",
      "[LightGBM] [Warning] feature_fraction is set=0.55, colsample_bytree=1.0 will be ignored. Current value: feature_fraction=0.55\n",
      "[LightGBM] [Warning] Found whitespace in feature_names, replace with underlines\n",
      "[LightGBM] [Warning] Unknown parameter: is_unbalanced\n",
      "[LightGBM] [Warning] feature_fraction is set=0.55, colsample_bytree=1.0 will be ignored. Current value: feature_fraction=0.55\n",
      "[LightGBM] [Info] Number of positive: 1121, number of negative: 3104\n",
      "[LightGBM] [Warning] Auto-choosing col-wise multi-threading, the overhead of testing was 0.001070 seconds.\n",
      "You can set `force_col_wise=true` to remove the overhead.\n",
      "[LightGBM] [Info] Total Bins 3549\n",
      "[LightGBM] [Info] Number of data points in the train set: 4225, number of used features: 38\n",
      "[LightGBM] [Info] [binary:BoostFromScore]: pavg=0.265325 -> initscore=-1.018470\n",
      "[LightGBM] [Info] Start training from score -1.018470\n"
     ]
    },
    {
     "data": {
      "text/plain": [
       "LGBMClassifier(boosting_type='dart', feature_fraction=0.55, is_unbalanced=True,\n",
       "               learning_rate=0.11, max_depth=500, num_leaves=21,\n",
       "               objective='binary')"
      ]
     },
     "execution_count": 123,
     "metadata": {},
     "output_type": "execute_result"
    }
   ],
   "source": [
    "dart_model = LGBMClassifier(boosting_type='dart', \n",
    "                            num_leaves=21, \n",
    "                            max_depth=500, \n",
    "                            learning_rate=0.11, \n",
    "                            n_estimators=100, \n",
    "                            objective='binary',\n",
    "                            is_unbalanced=True,\n",
    "                            feature_fraction=0.55\n",
    "                           )\n",
    "dart_model.fit(features_train, target_train)"
   ]
  },
  {
   "cell_type": "code",
   "execution_count": 124,
   "id": "253fdb76",
   "metadata": {},
   "outputs": [
    {
     "name": "stdout",
     "output_type": "stream",
     "text": [
      "[LightGBM] [Warning] Unknown parameter: is_unbalanced\n",
      "[LightGBM] [Warning] feature_fraction is set=0.55, colsample_bytree=1.0 will be ignored. Current value: feature_fraction=0.55\n"
     ]
    }
   ],
   "source": [
    "dart_predictions_val = dart_model.predict(features_valid)\n",
    "\n",
    "dart_val_score = roc_auc_score(target_valid, dart_predictions_val)"
   ]
  },
  {
   "cell_type": "code",
   "execution_count": 125,
   "id": "074939fd",
   "metadata": {},
   "outputs": [
    {
     "name": "stdout",
     "output_type": "stream",
     "text": [
      "[LightGBM] [Warning] Unknown parameter: is_unbalanced\n",
      "[LightGBM] [Warning] feature_fraction is set=0.55, colsample_bytree=1.0 will be ignored. Current value: feature_fraction=0.55\n"
     ]
    }
   ],
   "source": [
    "dart_predictions = dart_model.predict(features_test)\n",
    "\n",
    "dart_test_score = roc_auc_score(target_test, dart_predictions)"
   ]
  },
  {
   "cell_type": "code",
   "execution_count": 126,
   "id": "1ed808fa",
   "metadata": {},
   "outputs": [
    {
     "data": {
      "text/plain": [
       "'Gradiant Boosted DART Classifier Validation ROC-AUC:'"
      ]
     },
     "metadata": {},
     "output_type": "display_data"
    },
    {
     "data": {
      "text/plain": [
       "0.8964853134929862"
      ]
     },
     "metadata": {},
     "output_type": "display_data"
    },
    {
     "data": {
      "text/plain": [
       "'Gradiant Boosted DART Classifier Test ROC-AUC:'"
      ]
     },
     "metadata": {},
     "output_type": "display_data"
    },
    {
     "data": {
      "text/plain": [
       "0.885419411506368"
      ]
     },
     "metadata": {},
     "output_type": "display_data"
    }
   ],
   "source": [
    "#display(\"Gradiant Boosted DART Classifier Tree feature fraction:\", dart_frac)\n",
    "#display(\"Gradiant Boosted DART Classifier Tree estimators:\", dart_est)\n",
    "#display(\"Gradiant Boosted DART Classifier Tree leaves:\", dart_leaves)\n",
    "#display(\"Gradiant Boosted DART Classifier Tree learning rate:\", dart_learning_rate)\n",
    "\n",
    "display(\"Gradiant Boosted DART Classifier Validation ROC-AUC:\", dart_val_score)\n",
    "display(\"Gradiant Boosted DART Classifier Test ROC-AUC:\", dart_test_score)"
   ]
  },
  {
   "cell_type": "markdown",
   "id": "7efded0e",
   "metadata": {},
   "source": [
    "Performing better than the previous three non-boosted models, as predicted, the Gradiant Boosted DART model showed some improvement on the prediction task, though was outperformed by the previous Gradiant Boosted Decision Tree model, even if by the slightest margin. The Validation data ROC-AUC score is 0.896 and the Test data ROC-AUC score is 0.885, which shows a high degree of accuracy and precission in the prediction of churned customers."
   ]
  },
  {
   "cell_type": "markdown",
   "id": "448cc1b4",
   "metadata": {},
   "source": [
    "#### CatBoost Classifier"
   ]
  },
  {
   "cell_type": "code",
   "execution_count": 127,
   "id": "6a59c81b",
   "metadata": {},
   "outputs": [],
   "source": [
    "### Tuning hyperparameters before Optuna used\n",
    "\n",
    "#cbc_model = None\n",
    "#cbc_leaves = 0\n",
    "#cbc_learning_rate = 0\n",
    "#cbc_val_score = 0\n",
    "\n",
    "#for learn in range(1, 8):\n",
    "#    rate = learn / 20\n",
    "#    for depth in range(16, 17):\n",
    "#        for est in range(50, 61):\n",
    "#            model = CatBoostClassifier(\n",
    "#                iterations=est,\n",
    "#                learning_rate=rate,\n",
    "#                depth=depth,\n",
    "#                loss_function='Logloss',\n",
    "#                verbose=False,\n",
    "#                random_state=759638\n",
    "#                )\n",
    "#            model.fit(features_train, target_train, eval_set=(features_train, target_train))\n",
    "#            cbc_val_predict = model.predict(features_valid)\n",
    "#            result = roc_auc_score(target_valid, cbc_val_predict)\n",
    "            #scores = cross_val_score(model, features_train, target_train, cv=8, scoring='roc_auc')\n",
    "            #result = np.mean(scores)\n",
    "#            if result > cbc_val_score:\n",
    "#                cbc_val_score = result\n",
    "#                cbc_depth = depth\n",
    "#                cbc_learning_rate = rate\n",
    "#                cbc_model = model\n",
    "#                cbc_est = est"
   ]
  },
  {
   "cell_type": "code",
   "execution_count": 128,
   "id": "f1aa355b",
   "metadata": {
    "scrolled": true
   },
   "outputs": [],
   "source": [
    "### Hyperparameter tuning using Optuna\n",
    "\n",
    "#def cbc(trial):\n",
    "#    learn = trial.suggest_float('learning_rate', 0.001, 0.5, step=0.001)\n",
    "#    depth = trial.suggest_int('depth', 3, 16)\n",
    "#    est = trial.suggest_int('n_estimators', 50, 500)\n",
    "#    \n",
    "#    model = CatBoostClassifier(\n",
    "#        iterations=est,\n",
    "#        learning_rate=learn,\n",
    "#        depth=depth,\n",
    "#        loss_function='Logloss',\n",
    "#        verbose=False,\n",
    "#        random_seed=42\n",
    "#    )\n",
    "#    \n",
    "#    model.fit(features_train, target_train, eval_set=(features_valid, target_valid), early_stopping_rounds=20, verbose=False)\n",
    "#    cbc_val_predict = model.predict(features_valid)\n",
    "#    result = roc_auc_score(target_valid, cbc_val_predict)\n",
    "#    return result\n",
    "\n",
    "#study = optuna.create_study(direction='maximize')\n",
    "#study.optimize(cbc, n_trials=1000)\n",
    "\n",
    "#best_params = study.best_params\n",
    "#cbc_learning_rate = best_params['learning_rate']\n",
    "#cbc_depth = best_params['depth']\n",
    "#cbc_est = best_params['n_estimators']\n",
    "\n",
    "#cbc_model = CatBoostClassifier(\n",
    "#    iterations=cbc_est,\n",
    "#    learning_rate=cbc_learning_rate,\n",
    "#    depth=cbc_depth,\n",
    "#    loss_function='Logloss',\n",
    "#    verbose=False,\n",
    "#    random_seed=42\n",
    "#)\n",
    "\n",
    "#cbc_model.fit(features_train, target_train, eval_set=(features_valid, target_valid), early_stopping_rounds=20, verbose=False)"
   ]
  },
  {
   "cell_type": "code",
   "execution_count": 129,
   "id": "bd3afd33",
   "metadata": {},
   "outputs": [],
   "source": [
    "#cbc_model = CatBoostClassifier(iterations=est,\n",
    "#                               learning_rate=rate,\n",
    "#                               depth=leaves,\n",
    "#                               loss_function='Logloss',\n",
    "#                               verbose=False)\n",
    "#cbc_model.fit(features_train, target_train, eval_set=(features_train, target_train))\n",
    "#scores = cross_val_score(model, features_train, target_train, cv=8, scoring='roc_auc')\n",
    "#cbc_train_score = np.mean(scores)\n",
    "#cbc_val_predict = model.predict(features_valid)\n",
    "#cbc_val_score = roc_auc_score(target_valid, cbc_val_predict)"
   ]
  },
  {
   "cell_type": "code",
   "execution_count": 130,
   "id": "35885fac",
   "metadata": {},
   "outputs": [
    {
     "data": {
      "text/plain": [
       "<catboost.core.CatBoostClassifier at 0x2120e197248>"
      ]
     },
     "execution_count": 130,
     "metadata": {},
     "output_type": "execute_result"
    }
   ],
   "source": [
    "cbc_model = CatBoostClassifier(iterations=434,\n",
    "                               learning_rate=0.464,\n",
    "                               depth=3,\n",
    "                               loss_function='Logloss',\n",
    "                               verbose=False,\n",
    "                               random_seed=42\n",
    "                              )\n",
    "\n",
    "cbc_model.fit(features_train, target_train)"
   ]
  },
  {
   "cell_type": "code",
   "execution_count": 131,
   "id": "8d4645b3",
   "metadata": {},
   "outputs": [],
   "source": [
    "cbc_predictions_val = bdtc_model.predict(features_valid)\n",
    "\n",
    "cbc_val_score = roc_auc_score(target_valid, cbc_predictions_val)"
   ]
  },
  {
   "cell_type": "code",
   "execution_count": 132,
   "id": "43db0690",
   "metadata": {},
   "outputs": [],
   "source": [
    "cbc_predictions = cbc_model.predict(features_test)\n",
    "\n",
    "cbc_test_score = roc_auc_score(target_test, cbc_predictions)"
   ]
  },
  {
   "cell_type": "code",
   "execution_count": 133,
   "id": "365be757",
   "metadata": {},
   "outputs": [
    {
     "data": {
      "text/plain": [
       "'CatBoost Classifier Validation ROC-AUC:'"
      ]
     },
     "metadata": {},
     "output_type": "display_data"
    },
    {
     "data": {
      "text/plain": [
       "0.8949236611640704"
      ]
     },
     "metadata": {},
     "output_type": "display_data"
    },
    {
     "data": {
      "text/plain": [
       "'CatBoost Classifier Test ROC-AUC:'"
      ]
     },
     "metadata": {},
     "output_type": "display_data"
    },
    {
     "data": {
      "text/plain": [
       "0.8750161461158904"
      ]
     },
     "metadata": {},
     "output_type": "display_data"
    }
   ],
   "source": [
    "#display(\"CatBoost Classifier Tree learning rate:\", cbc_learning_rate)\n",
    "#display(\"CatBoost Classifier Tree depth:\", cbc_depth)\n",
    "#display(\"CatBoost Classifier Tree iterations:\", cbc_est)\n",
    "\n",
    "display(\"CatBoost Classifier Validation ROC-AUC:\", cbc_val_score)\n",
    "display(\"CatBoost Classifier Test ROC-AUC:\", cbc_test_score)"
   ]
  },
  {
   "cell_type": "markdown",
   "id": "4cdc8362",
   "metadata": {},
   "source": [
    "Performing better than the previous three non-boosted models, as predicted, the Gradiant Boosted CatBoost Classifier model showed some improvement on the prediction task, though was outperformed by the previous Gradiant Boosted Decision Tree model, even if by the slightest margin. The Validation data ROC-AUC score is 0.895 and the Test data ROC-AUC score is 0.875, which shows a high degree of accuracy and precission in the prediction of churned customers."
   ]
  },
  {
   "cell_type": "markdown",
   "id": "2aad26c6",
   "metadata": {},
   "source": [
    "<div class=\"alert alert-success\">\n",
    "<b>Reviewer's comment</b>\n",
    "\n",
    "Excellent! You tried a few different models, tuned their hyperparameters and achieved great results!\n",
    "\n",
    "</div>"
   ]
  },
  {
   "cell_type": "markdown",
   "id": "bee6bf05",
   "metadata": {},
   "source": [
    "## Conclusion"
   ]
  },
  {
   "cell_type": "markdown",
   "id": "f8491816",
   "metadata": {},
   "source": [
    "Following our exploratory analysis of the data, where we determined that when the data was observed at a glance, there were only a couple of indicators of customers that were at a higher risk of churning - such as being a senior citizen, or being on a monthly contract rather than one that was more long-term - we engineered the provided data for machine learning.\n",
    "\n",
    "From the existing columns, we created a number of columns to help in the analysis - some could be observed in such a manner as to be analyszed further, others were the result of mathmatic transformation to represent more abstract variables that would be less useful in a manual analysis.\n",
    "\n",
    "After numerous rounds of variable creation, and hyperparameter tuning, we produced a good model in the form of a Gradiant Boosted Decision Tree model using the LightGBM library. The final results of the chosen model when applied to the Test data was a ROC-AUC score of 0.8936203466894005."
   ]
  },
  {
   "cell_type": "markdown",
   "id": "5ee52713",
   "metadata": {},
   "source": [
    "# Solution Code"
   ]
  },
  {
   "cell_type": "markdown",
   "id": "3aacda23",
   "metadata": {},
   "source": [
    "### What steps of the plan were performed and what steps were skipped (explain why)?"
   ]
  },
  {
   "cell_type": "markdown",
   "id": "dd14231b",
   "metadata": {},
   "source": [
    "All steps as laid out by the work plan were achieved. No. 8: \"Model Selection\" was wrapped into the model evaluation and conclusion of the project as isolating it was not necessary or beneficial to the overall flow as the models were assessed during their training and the Conclusion restated the best model was the Gradiant Boosted Decision Tree model using the Light GBM library."
   ]
  },
  {
   "cell_type": "markdown",
   "id": "1db39afb",
   "metadata": {},
   "source": [
    "### What difficulties did you encounter and how did you manage to solve them?"
   ]
  },
  {
   "cell_type": "markdown",
   "id": "54742036",
   "metadata": {},
   "source": [
    "I had two primary difficulties during the project, and one secondary.\n",
    "\n",
    "The first issue that impacted me greatly was my file being corrupted and losing a good deal of progress I had made. I believe that my local environment through Anaconda also got messed up as I had to reload the environment entirely and pull an old file, making me redo three to four days of work. I started downloading more backups after this incident in case corruption occurred again.\n",
    "\n",
    "The second issue I ran into was an inability to get my ROC-AUC higher than the low to mid .70s - this was fixed by just taking a breath and explaining box and whisker plots to someone - at which point I realized I did not handle outliers properly. Once I implimented my function to deal with outliers, my results improved greatly.\n",
    "\n",
    "The secondary issue was the time it took to train my models. I wasn't using the most efficient method of tuning my hyperparameteres, relying on nested loops rather than a more efficient grid search. However, I found a library called Optuna which turned out to be a fantastic resource to tune my hyperparameters. Where a nested loop tune would take three or four hours, I would get better results using Optuna in a fraction of the time. It took on average five to ten minutes to run 1000 iterations with Optuna resulting in fantastic results for my hyperparameters. Setting it up with the appropriate functions also took very little time as well as once I had it written for one boosted model, the other two were near carbon copies with slight variations."
   ]
  },
  {
   "cell_type": "markdown",
   "id": "671c8811",
   "metadata": {},
   "source": [
    "### What were some of the key steps to solving the task?"
   ]
  },
  {
   "cell_type": "markdown",
   "id": "7828b127",
   "metadata": {},
   "source": [
    "Some of the key steps were proper preprocessing of the data, this ensured that the four separate dataframes were able to be merged with ease.\n",
    "\n",
    "The exploratory aanalysis also helped paint a picture that there were very few features that alone had a strong correlation to the targeted churn data. This was key in my feature engineering, both in making new columns that held some degree of significance just looking at them, such as the average monthly charge, or months remaining in the contracts, and the seemingly random variable columns that were mathmatical transformations based on the existing columns, that when looked at alone didn't hold significant value, but aided in creating a strong model.\n",
    "\n",
    "Handling the outliers properly was also key - it was a hurdle that took me longer than I would have liked, but resulted in significant improvements to the models after they had been appropriately handled.\n",
    "\n",
    "The final key step in the project was taking the time to tune the hyperparameters of the models rather than just getting \"close enough\" and using that result. My use of Optuna helped ensure that the models created were tuned to the best they could have been and resulted in high quality models."
   ]
  },
  {
   "cell_type": "markdown",
   "id": "e04df2ee",
   "metadata": {},
   "source": [
    "### What is your final model and what quality score does it have?"
   ]
  },
  {
   "cell_type": "markdown",
   "id": "cb2bebf7",
   "metadata": {},
   "source": [
    "My final model was the Gradiant Boosted Decision Tree Classifier using the LightGBM library. The model with tuned hyperparameters is as follows:\n",
    "\n",
    "```\n",
    "bdtc_model = LGBMClassifier(boosting_type='gbdt', \n",
    "                            num_leaves=2, \n",
    "                            max_depth=500, \n",
    "                            learning_rate=0.51, \n",
    "                            n_estimators=256, \n",
    "                            subsample=0.4,\n",
    "                            objective='binary'\n",
    "                           )\n",
    "```\n",
    "\n",
    "The results were:\n",
    "\n",
    "```\n",
    "Gradiant Boosted Decission Tree Classifier Validation ROC-AUC: 0.8949236611640704\n",
    "\n",
    "Gradiant Boosted Decission Tree Classifier Test ROC-AUC: 0.8936203466894005\n",
    "```\n",
    "The results of both the validation and test data being approximately the same when rounded to two decimals, 0.89, shows that there wasn't a significant degree or any apparent overfitting. And with such a result the model produced was one of high quality."
   ]
  },
  {
   "cell_type": "code",
   "execution_count": null,
   "id": "451960c1",
   "metadata": {},
   "outputs": [],
   "source": []
  }
 ],
 "metadata": {
  "kernelspec": {
   "display_name": "Python 3 (ipykernel)",
   "language": "python",
   "name": "python3"
  },
  "language_info": {
   "codemirror_mode": {
    "name": "ipython",
    "version": 3
   },
   "file_extension": ".py",
   "mimetype": "text/x-python",
   "name": "python",
   "nbconvert_exporter": "python",
   "pygments_lexer": "ipython3",
   "version": "3.9.5"
  },
  "toc": {
   "base_numbering": 1,
   "nav_menu": {},
   "number_sections": true,
   "sideBar": true,
   "skip_h1_title": true,
   "title_cell": "Table of Contents",
   "title_sidebar": "Contents",
   "toc_cell": false,
   "toc_position": {},
   "toc_section_display": true,
   "toc_window_display": false
  }
 },
 "nbformat": 4,
 "nbformat_minor": 5
}
